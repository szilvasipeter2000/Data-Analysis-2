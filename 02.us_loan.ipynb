{
 "cells": [
  {
   "cell_type": "code",
   "execution_count": 294,
   "metadata": {},
   "outputs": [],
   "source": [
    "# import necessary libraries\n",
    "import pandas as pd\n",
    "import numpy as np\n",
    "import seaborn as sns\n",
    "import plotly.express as px\n",
    "import matplotlib.pyplot as plt"
   ]
  },
  {
   "cell_type": "code",
   "execution_count": 295,
   "metadata": {},
   "outputs": [],
   "source": [
    "# import data which is already filtered using the 01_filter_data.ipynb file\n",
    "df = pd.read_csv('https://raw.githubusercontent.com/szilvasipeter2000/Data-Analysis-2/main/data/loan_data.csv')\n",
    "\n",
    "# import political affiliation of states data\n",
    "df_states = pd.read_csv('https://raw.githubusercontent.com/szilvasipeter2000/Data-Analysis-2/main/data/state_affiliation.csv',sep=';',header=None)"
   ]
  },
  {
   "cell_type": "code",
   "execution_count": 296,
   "metadata": {},
   "outputs": [
    {
     "data": {
      "text/html": [
       "<div>\n",
       "<style scoped>\n",
       "    .dataframe tbody tr th:only-of-type {\n",
       "        vertical-align: middle;\n",
       "    }\n",
       "\n",
       "    .dataframe tbody tr th {\n",
       "        vertical-align: top;\n",
       "    }\n",
       "\n",
       "    .dataframe thead th {\n",
       "        text-align: right;\n",
       "    }\n",
       "</style>\n",
       "<table border=\"1\" class=\"dataframe\">\n",
       "  <thead>\n",
       "    <tr style=\"text-align: right;\">\n",
       "      <th></th>\n",
       "      <th>0</th>\n",
       "      <th>1</th>\n",
       "      <th>2</th>\n",
       "    </tr>\n",
       "  </thead>\n",
       "  <tbody>\n",
       "    <tr>\n",
       "      <th>0</th>\n",
       "      <td>Alabama</td>\n",
       "      <td>R</td>\n",
       "      <td></td>\n",
       "    </tr>\n",
       "    <tr>\n",
       "      <th>1</th>\n",
       "      <td>Alaska</td>\n",
       "      <td>I</td>\n",
       "      <td>NaN</td>\n",
       "    </tr>\n",
       "    <tr>\n",
       "      <th>2</th>\n",
       "      <td>Arizona</td>\n",
       "      <td>R</td>\n",
       "      <td>NaN</td>\n",
       "    </tr>\n",
       "    <tr>\n",
       "      <th>3</th>\n",
       "      <td>Arkansas</td>\n",
       "      <td>R</td>\n",
       "      <td>NaN</td>\n",
       "    </tr>\n",
       "    <tr>\n",
       "      <th>4</th>\n",
       "      <td>California</td>\n",
       "      <td>D</td>\n",
       "      <td>NaN</td>\n",
       "    </tr>\n",
       "  </tbody>\n",
       "</table>\n",
       "</div>"
      ],
      "text/plain": [
       "            0  1    2\n",
       "0     Alabama  R     \n",
       "1      Alaska  I  NaN\n",
       "2     Arizona  R  NaN\n",
       "3    Arkansas  R  NaN\n",
       "4  California  D  NaN"
      ]
     },
     "execution_count": 296,
     "metadata": {},
     "output_type": "execute_result"
    }
   ],
   "source": [
    "df_states.head()"
   ]
  },
  {
   "cell_type": "code",
   "execution_count": 297,
   "metadata": {},
   "outputs": [],
   "source": [
    "# correct mistake in csv (drop empty column)\n",
    "df_states.dropna(inplace=True,axis=1)\n",
    "\n",
    "# rename columns\n",
    "df_states.columns = ['geo_name','affiliation']\n",
    "\n",
    "# merge dataframes\n",
    "df = df.merge(df_states,on='geo_name')"
   ]
  },
  {
   "cell_type": "markdown",
   "metadata": {},
   "source": [
    "---\n",
    "# 00. EDA\n",
    "--- "
   ]
  },
  {
   "cell_type": "code",
   "execution_count": 298,
   "metadata": {},
   "outputs": [
    {
     "data": {
      "text/html": [
       "<div>\n",
       "<style scoped>\n",
       "    .dataframe tbody tr th:only-of-type {\n",
       "        vertical-align: middle;\n",
       "    }\n",
       "\n",
       "    .dataframe tbody tr th {\n",
       "        vertical-align: top;\n",
       "    }\n",
       "\n",
       "    .dataframe thead th {\n",
       "        text-align: right;\n",
       "    }\n",
       "</style>\n",
       "<table border=\"1\" class=\"dataframe\">\n",
       "  <thead>\n",
       "    <tr style=\"text-align: right;\">\n",
       "      <th></th>\n",
       "      <th>geo_name</th>\n",
       "      <th>geo_level</th>\n",
       "      <th>race_or_ethnicity</th>\n",
       "      <th>gender</th>\n",
       "      <th>veteran</th>\n",
       "      <th>number_of_loans</th>\n",
       "      <th>loan_amount</th>\n",
       "      <th>quartiles_number_of_loans</th>\n",
       "      <th>quartiles_loan_amount</th>\n",
       "      <th>percentile_number_of_loans</th>\n",
       "      <th>percentile_loan_amount</th>\n",
       "      <th>pct_black_alone</th>\n",
       "      <th>affiliation</th>\n",
       "    </tr>\n",
       "  </thead>\n",
       "  <tbody>\n",
       "    <tr>\n",
       "      <th>0</th>\n",
       "      <td>Montana</td>\n",
       "      <td>state</td>\n",
       "      <td>Hispanic</td>\n",
       "      <td>Female Owned</td>\n",
       "      <td>Veteran</td>\n",
       "      <td>8</td>\n",
       "      <td>376256</td>\n",
       "      <td>Bottom 25% of geographies</td>\n",
       "      <td>26-50% of geographies</td>\n",
       "      <td>22</td>\n",
       "      <td>30</td>\n",
       "      <td>0.6</td>\n",
       "      <td>D</td>\n",
       "    </tr>\n",
       "    <tr>\n",
       "      <th>1</th>\n",
       "      <td>Montana</td>\n",
       "      <td>state</td>\n",
       "      <td>Hispanic</td>\n",
       "      <td>Female Owned</td>\n",
       "      <td>Non-Veteran</td>\n",
       "      <td>96</td>\n",
       "      <td>2776646</td>\n",
       "      <td>Bottom 25% of geographies</td>\n",
       "      <td>Bottom 25% of geographies</td>\n",
       "      <td>12</td>\n",
       "      <td>10</td>\n",
       "      <td>0.6</td>\n",
       "      <td>D</td>\n",
       "    </tr>\n",
       "    <tr>\n",
       "      <th>2</th>\n",
       "      <td>Montana</td>\n",
       "      <td>state</td>\n",
       "      <td>White</td>\n",
       "      <td>Female Owned</td>\n",
       "      <td>Non-Veteran</td>\n",
       "      <td>2546</td>\n",
       "      <td>97370815</td>\n",
       "      <td>26-50% of geographies</td>\n",
       "      <td>Bottom 25% of geographies</td>\n",
       "      <td>30</td>\n",
       "      <td>22</td>\n",
       "      <td>0.6</td>\n",
       "      <td>D</td>\n",
       "    </tr>\n",
       "    <tr>\n",
       "      <th>3</th>\n",
       "      <td>Montana</td>\n",
       "      <td>state</td>\n",
       "      <td>White</td>\n",
       "      <td>Female Owned</td>\n",
       "      <td>Veteran</td>\n",
       "      <td>116</td>\n",
       "      <td>3037589</td>\n",
       "      <td>26-50% of geographies</td>\n",
       "      <td>Bottom 25% of geographies</td>\n",
       "      <td>28</td>\n",
       "      <td>18</td>\n",
       "      <td>0.6</td>\n",
       "      <td>D</td>\n",
       "    </tr>\n",
       "    <tr>\n",
       "      <th>4</th>\n",
       "      <td>Montana</td>\n",
       "      <td>state</td>\n",
       "      <td>Asian</td>\n",
       "      <td>Female Owned</td>\n",
       "      <td>Veteran</td>\n",
       "      <td>1</td>\n",
       "      <td>95000</td>\n",
       "      <td>Bottom 25% of geographies</td>\n",
       "      <td>Bottom 25% of geographies</td>\n",
       "      <td>0</td>\n",
       "      <td>19</td>\n",
       "      <td>0.6</td>\n",
       "      <td>D</td>\n",
       "    </tr>\n",
       "  </tbody>\n",
       "</table>\n",
       "</div>"
      ],
      "text/plain": [
       "  geo_name geo_level race_or_ethnicity        gender      veteran  \\\n",
       "0  Montana     state          Hispanic  Female Owned      Veteran   \n",
       "1  Montana     state          Hispanic  Female Owned  Non-Veteran   \n",
       "2  Montana     state             White  Female Owned  Non-Veteran   \n",
       "3  Montana     state             White  Female Owned      Veteran   \n",
       "4  Montana     state             Asian  Female Owned      Veteran   \n",
       "\n",
       "   number_of_loans  loan_amount  quartiles_number_of_loans  \\\n",
       "0                8       376256  Bottom 25% of geographies   \n",
       "1               96      2776646  Bottom 25% of geographies   \n",
       "2             2546     97370815      26-50% of geographies   \n",
       "3              116      3037589      26-50% of geographies   \n",
       "4                1        95000  Bottom 25% of geographies   \n",
       "\n",
       "       quartiles_loan_amount  percentile_number_of_loans  \\\n",
       "0      26-50% of geographies                          22   \n",
       "1  Bottom 25% of geographies                          12   \n",
       "2  Bottom 25% of geographies                          30   \n",
       "3  Bottom 25% of geographies                          28   \n",
       "4  Bottom 25% of geographies                           0   \n",
       "\n",
       "   percentile_loan_amount  pct_black_alone affiliation  \n",
       "0                      30              0.6           D  \n",
       "1                      10              0.6           D  \n",
       "2                      22              0.6           D  \n",
       "3                      18              0.6           D  \n",
       "4                      19              0.6           D  "
      ]
     },
     "execution_count": 298,
     "metadata": {},
     "output_type": "execute_result"
    }
   ],
   "source": [
    "df.head()"
   ]
  },
  {
   "cell_type": "code",
   "execution_count": 299,
   "metadata": {},
   "outputs": [
    {
     "name": "stdout",
     "output_type": "stream",
     "text": [
      "I have 807 rows and 13 columns in my dataset.\n"
     ]
    }
   ],
   "source": [
    "print(f\"I have {df.shape[0]} rows and {df.shape[1]} columns in my dataset.\")"
   ]
  },
  {
   "cell_type": "code",
   "execution_count": 300,
   "metadata": {},
   "outputs": [
    {
     "data": {
      "text/plain": [
       "Index(['geo_name', 'geo_level', 'race_or_ethnicity', 'gender', 'veteran',\n",
       "       'number_of_loans', 'loan_amount', 'quartiles_number_of_loans',\n",
       "       'quartiles_loan_amount', 'percentile_number_of_loans',\n",
       "       'percentile_loan_amount', 'pct_black_alone', 'affiliation'],\n",
       "      dtype='object')"
      ]
     },
     "execution_count": 300,
     "metadata": {},
     "output_type": "execute_result"
    }
   ],
   "source": [
    "# look at columns\n",
    "df.columns"
   ]
  },
  {
   "cell_type": "code",
   "execution_count": 301,
   "metadata": {},
   "outputs": [
    {
     "data": {
      "text/plain": [
       "geo_name                      0\n",
       "geo_level                     0\n",
       "race_or_ethnicity             0\n",
       "gender                        0\n",
       "veteran                       0\n",
       "number_of_loans               0\n",
       "loan_amount                   0\n",
       "quartiles_number_of_loans     0\n",
       "quartiles_loan_amount         0\n",
       "percentile_number_of_loans    0\n",
       "percentile_loan_amount        0\n",
       "pct_black_alone               0\n",
       "affiliation                   0\n",
       "dtype: int64"
      ]
     },
     "execution_count": 301,
     "metadata": {},
     "output_type": "execute_result"
    }
   ],
   "source": [
    "# look at null values\n",
    "df.isnull().sum()"
   ]
  },
  {
   "cell_type": "code",
   "execution_count": 302,
   "metadata": {},
   "outputs": [
    {
     "name": "stdout",
     "output_type": "stream",
     "text": [
      "<class 'pandas.core.frame.DataFrame'>\n",
      "Int64Index: 807 entries, 0 to 806\n",
      "Data columns (total 13 columns):\n",
      " #   Column                      Non-Null Count  Dtype  \n",
      "---  ------                      --------------  -----  \n",
      " 0   geo_name                    807 non-null    object \n",
      " 1   geo_level                   807 non-null    object \n",
      " 2   race_or_ethnicity           807 non-null    object \n",
      " 3   gender                      807 non-null    object \n",
      " 4   veteran                     807 non-null    object \n",
      " 5   number_of_loans             807 non-null    int64  \n",
      " 6   loan_amount                 807 non-null    int64  \n",
      " 7   quartiles_number_of_loans   807 non-null    object \n",
      " 8   quartiles_loan_amount       807 non-null    object \n",
      " 9   percentile_number_of_loans  807 non-null    int64  \n",
      " 10  percentile_loan_amount      807 non-null    int64  \n",
      " 11  pct_black_alone             807 non-null    float64\n",
      " 12  affiliation                 807 non-null    object \n",
      "dtypes: float64(1), int64(4), object(8)\n",
      "memory usage: 88.3+ KB\n"
     ]
    }
   ],
   "source": [
    "df.info()"
   ]
  },
  {
   "cell_type": "code",
   "execution_count": 303,
   "metadata": {},
   "outputs": [
    {
     "name": "stdout",
     "output_type": "stream",
     "text": [
      "Montana                 16\n",
      "North Carolina          16\n",
      "Kentucky                16\n",
      "South Carolina          16\n",
      "New Mexico              16\n",
      "Hawaii                  16\n",
      "Colorado                16\n",
      "Florida                 16\n",
      "New Jersey              16\n",
      "Alabama                 16\n",
      "Georgia                 16\n",
      "California              16\n",
      "Washington              16\n",
      "Pennsylvania            16\n",
      "Massachusetts           16\n",
      "New York                16\n",
      "Ohio                    16\n",
      "Oregon                  16\n",
      "Mississippi             16\n",
      "Illinois                16\n",
      "West Virginia           16\n",
      "Indiana                 16\n",
      "Arkansas                16\n",
      "Arizona                 16\n",
      "Tennessee               16\n",
      "Nevada                  16\n",
      "South Dakota            16\n",
      "Nebraska                16\n",
      "Louisiana               16\n",
      "Kansas                  16\n",
      "Connecticut             16\n",
      "Idaho                   16\n",
      "Michigan                16\n",
      "Virginia                16\n",
      "Utah                    16\n",
      "Maryland                16\n",
      "District of Columbia    16\n",
      "Texas                   16\n",
      "Minnesota               16\n",
      "Iowa                    16\n",
      "Missouri                16\n",
      "Maine                   16\n",
      "Wisconsin               16\n",
      "Delaware                16\n",
      "Oklahoma                16\n",
      "Alaska                  16\n",
      "New Hampshire           15\n",
      "Rhode Island            15\n",
      "Wyoming                 15\n",
      "North Dakota            14\n",
      "Vermont                 12\n",
      "Name: geo_name, dtype: int64\n",
      "-------------------\n",
      "state    807\n",
      "Name: geo_level, dtype: int64\n",
      "-------------------\n",
      "White       204\n",
      "Hispanic    203\n",
      "Asian       200\n",
      "Black       200\n",
      "Name: race_or_ethnicity, dtype: int64\n",
      "-------------------\n",
      "Male Owned      405\n",
      "Female Owned    402\n",
      "Name: gender, dtype: int64\n",
      "-------------------\n",
      "Non-Veteran    408\n",
      "Veteran        399\n",
      "Name: veteran, dtype: int64\n",
      "-------------------\n",
      "6        11\n",
      "3         9\n",
      "4         9\n",
      "7         9\n",
      "1         8\n",
      "         ..\n",
      "251       1\n",
      "1016      1\n",
      "4026      1\n",
      "1231      1\n",
      "10655     1\n",
      "Name: number_of_loans, Length: 577, dtype: int64\n",
      "-------------------\n",
      "376256        1\n",
      "492726102     1\n",
      "321917607     1\n",
      "2699970723    1\n",
      "4103954       1\n",
      "             ..\n",
      "1316072163    1\n",
      "1335201       1\n",
      "413087128     1\n",
      "17985076      1\n",
      "11966470      1\n",
      "Name: loan_amount, Length: 807, dtype: int64\n",
      "-------------------\n",
      "Bottom 25% of geographies    208\n",
      "51-75% of geographies        204\n",
      "26-50% of geographies        203\n",
      "Top 25% of geographies       192\n",
      "Name: quartiles_number_of_loans, dtype: int64\n",
      "-------------------\n",
      "Bottom 25% of geographies    206\n",
      "51-75% of geographies        206\n",
      "26-50% of geographies        203\n",
      "Top 25% of geographies       192\n",
      "Name: quartiles_loan_amount, dtype: int64\n",
      "-------------------\n",
      "6     24\n",
      "0     22\n",
      "22    18\n",
      "28    17\n",
      "16    16\n",
      "      ..\n",
      "61     2\n",
      "31     1\n",
      "19     1\n",
      "15     1\n",
      "23     1\n",
      "Name: percentile_number_of_loans, Length: 90, dtype: int64\n",
      "-------------------\n",
      "0      16\n",
      "6      16\n",
      "98     16\n",
      "96     16\n",
      "100    16\n",
      "       ..\n",
      "13      2\n",
      "11      2\n",
      "87      2\n",
      "15      2\n",
      "83      2\n",
      "Name: percentile_loan_amount, Length: 91, dtype: int64\n",
      "-------------------\n",
      "1.9     32\n",
      "15.2    32\n",
      "0.6     16\n",
      "31.5    16\n",
      "8.0     16\n",
      "26.2    16\n",
      "2.1     16\n",
      "4.1     16\n",
      "15.7    16\n",
      "13.3    16\n",
      "26.5    16\n",
      "5.7     16\n",
      "9.3     16\n",
      "3.9     16\n",
      "11.0    16\n",
      "7.3     16\n",
      "12.3    16\n",
      "37.5    16\n",
      "14.1    16\n",
      "3.4     16\n",
      "9.4     16\n",
      "4.5     16\n",
      "21.2    16\n",
      "3.2     16\n",
      "2.2     16\n",
      "4.8     16\n",
      "31.9    16\n",
      "5.6     16\n",
      "10.8    16\n",
      "0.7     16\n",
      "13.6    16\n",
      "19.0    16\n",
      "1.2     16\n",
      "29.8    16\n",
      "7.2     16\n",
      "44.7    16\n",
      "12.1    16\n",
      "6.6     16\n",
      "3.7     16\n",
      "11.3    16\n",
      "1.4     16\n",
      "6.3     16\n",
      "22.0    16\n",
      "16.5    16\n",
      "1.6     15\n",
      "6.4     15\n",
      "0.9     15\n",
      "3.1     14\n",
      "1.3     12\n",
      "Name: pct_black_alone, dtype: int64\n",
      "-------------------\n",
      "R    504\n",
      "D    287\n",
      "I     16\n",
      "Name: affiliation, dtype: int64\n",
      "-------------------\n"
     ]
    }
   ],
   "source": [
    "# look at value counts for each column\n",
    "for col in df.columns:\n",
    "    print(df[col].value_counts())\n",
    "    print('-------------------')"
   ]
  },
  {
   "cell_type": "code",
   "execution_count": 304,
   "metadata": {},
   "outputs": [
    {
     "name": "stdout",
     "output_type": "stream",
     "text": [
      "geo_name 51\n",
      "geo_level 1\n",
      "race_or_ethnicity 4\n",
      "gender 2\n",
      "veteran 2\n",
      "number_of_loans 577\n",
      "loan_amount 807\n",
      "quartiles_number_of_loans 4\n",
      "quartiles_loan_amount 4\n",
      "percentile_number_of_loans 90\n",
      "percentile_loan_amount 91\n",
      "pct_black_alone 49\n",
      "affiliation 3\n"
     ]
    }
   ],
   "source": [
    "# look at the unique values of each column\n",
    "for col in df.columns:\n",
    "    print(col, df[col].nunique())"
   ]
  },
  {
   "cell_type": "code",
   "execution_count": 305,
   "metadata": {},
   "outputs": [
    {
     "data": {
      "text/html": [
       "<div>\n",
       "<style scoped>\n",
       "    .dataframe tbody tr th:only-of-type {\n",
       "        vertical-align: middle;\n",
       "    }\n",
       "\n",
       "    .dataframe tbody tr th {\n",
       "        vertical-align: top;\n",
       "    }\n",
       "\n",
       "    .dataframe thead th {\n",
       "        text-align: right;\n",
       "    }\n",
       "</style>\n",
       "<table border=\"1\" class=\"dataframe\">\n",
       "  <thead>\n",
       "    <tr style=\"text-align: right;\">\n",
       "      <th></th>\n",
       "      <th>number_of_loans</th>\n",
       "      <th>loan_amount</th>\n",
       "      <th>percentile_number_of_loans</th>\n",
       "      <th>percentile_loan_amount</th>\n",
       "      <th>pct_black_alone</th>\n",
       "    </tr>\n",
       "  </thead>\n",
       "  <tbody>\n",
       "    <tr>\n",
       "      <th>count</th>\n",
       "      <td>807.000000</td>\n",
       "      <td>8.070000e+02</td>\n",
       "      <td>807.000000</td>\n",
       "      <td>807.000000</td>\n",
       "      <td>807.000000</td>\n",
       "    </tr>\n",
       "    <tr>\n",
       "      <th>mean</th>\n",
       "      <td>3014.047088</td>\n",
       "      <td>1.625656e+08</td>\n",
       "      <td>49.784387</td>\n",
       "      <td>50.000000</td>\n",
       "      <td>11.270012</td>\n",
       "    </tr>\n",
       "    <tr>\n",
       "      <th>std</th>\n",
       "      <td>7259.171822</td>\n",
       "      <td>5.263416e+08</td>\n",
       "      <td>29.641708</td>\n",
       "      <td>29.477333</td>\n",
       "      <td>10.408518</td>\n",
       "    </tr>\n",
       "    <tr>\n",
       "      <th>min</th>\n",
       "      <td>1.000000</td>\n",
       "      <td>3.010000e+02</td>\n",
       "      <td>0.000000</td>\n",
       "      <td>0.000000</td>\n",
       "      <td>0.600000</td>\n",
       "    </tr>\n",
       "    <tr>\n",
       "      <th>25%</th>\n",
       "      <td>53.500000</td>\n",
       "      <td>1.992810e+06</td>\n",
       "      <td>24.000000</td>\n",
       "      <td>24.000000</td>\n",
       "      <td>3.400000</td>\n",
       "    </tr>\n",
       "    <tr>\n",
       "      <th>50%</th>\n",
       "      <td>339.000000</td>\n",
       "      <td>1.562447e+07</td>\n",
       "      <td>50.000000</td>\n",
       "      <td>50.000000</td>\n",
       "      <td>7.300000</td>\n",
       "    </tr>\n",
       "    <tr>\n",
       "      <th>75%</th>\n",
       "      <td>1949.500000</td>\n",
       "      <td>9.952855e+07</td>\n",
       "      <td>76.000000</td>\n",
       "      <td>76.000000</td>\n",
       "      <td>15.200000</td>\n",
       "    </tr>\n",
       "    <tr>\n",
       "      <th>max</th>\n",
       "      <td>73256.000000</td>\n",
       "      <td>8.835301e+09</td>\n",
       "      <td>100.000000</td>\n",
       "      <td>100.000000</td>\n",
       "      <td>44.700000</td>\n",
       "    </tr>\n",
       "  </tbody>\n",
       "</table>\n",
       "</div>"
      ],
      "text/plain": [
       "       number_of_loans   loan_amount  percentile_number_of_loans  \\\n",
       "count       807.000000  8.070000e+02                  807.000000   \n",
       "mean       3014.047088  1.625656e+08                   49.784387   \n",
       "std        7259.171822  5.263416e+08                   29.641708   \n",
       "min           1.000000  3.010000e+02                    0.000000   \n",
       "25%          53.500000  1.992810e+06                   24.000000   \n",
       "50%         339.000000  1.562447e+07                   50.000000   \n",
       "75%        1949.500000  9.952855e+07                   76.000000   \n",
       "max       73256.000000  8.835301e+09                  100.000000   \n",
       "\n",
       "       percentile_loan_amount  pct_black_alone  \n",
       "count              807.000000       807.000000  \n",
       "mean                50.000000        11.270012  \n",
       "std                 29.477333        10.408518  \n",
       "min                  0.000000         0.600000  \n",
       "25%                 24.000000         3.400000  \n",
       "50%                 50.000000         7.300000  \n",
       "75%                 76.000000        15.200000  \n",
       "max                100.000000        44.700000  "
      ]
     },
     "execution_count": 305,
     "metadata": {},
     "output_type": "execute_result"
    }
   ],
   "source": [
    "df.describe()"
   ]
  },
  {
   "cell_type": "markdown",
   "metadata": {},
   "source": [
    "## Look at loan amount as our dependant variable"
   ]
  },
  {
   "cell_type": "code",
   "execution_count": 306,
   "metadata": {},
   "outputs": [],
   "source": [
    "# Log transform the loan_amount column\n",
    "df['log_loan_amount'] = df['loan_amount'].apply(lambda x: np.log(x))"
   ]
  },
  {
   "cell_type": "code",
   "execution_count": 307,
   "metadata": {},
   "outputs": [
    {
     "data": {
      "image/png": "[encoded data removed]",
      "text/plain": [
       "<Figure size 1200x600 with 1 Axes>"
      ]
     },
     "metadata": {},
     "output_type": "display_data"
    }
   ],
   "source": [
    "# Setting up the figure\n",
    "plt.figure(figsize=(12, 6))\n",
    "\n",
    "# Create the KDE plot\n",
    "sns.kdeplot(data=df, x='log_loan_amount', hue='race_or_ethnicity', \n",
    "            palette='viridis',  # Color palette\n",
    "            fill=True,  # Fill the area under the curve\n",
    "            alpha=0.5)  # transparency\n",
    "\n",
    "# Set labels and title\n",
    "plt.xlabel('Log Loan Amount')\n",
    "plt.title('Kernel Density Estimation of Log Loan Amount by Race or Ethnicity')\n",
    "\n",
    "# Show the plot\n",
    "plt.show()"
   ]
  },
  {
   "cell_type": "code",
   "execution_count": 308,
   "metadata": {},
   "outputs": [
    {
     "data": {
      "image/png": "[encoded data removed]",
      "text/plain": [
       "<Figure size 1200x600 with 1 Axes>"
      ]
     },
     "metadata": {},
     "output_type": "display_data"
    }
   ],
   "source": [
    "by_ethnicity = df.groupby(by='race_or_ethnicity').aggregate({'loan_amount': ['sum']}).reset_index()\n",
    "\n",
    "plt.figure(figsize=(12, 6))\n",
    "sns.barplot(data=by_ethnicity,x='race_or_ethnicity',y=('loan_amount','sum'),palette='viridis')\n",
    "\n",
    "plt.xlabel('Race or Ethnicity of Ownership')\n",
    "plt.ylabel('Loan Amount')\n",
    "\n",
    "plt.show()"
   ]
  },
  {
   "cell_type": "code",
   "execution_count": 309,
   "metadata": {},
   "outputs": [],
   "source": [
    "# Assumption from EDA and research question: Businesses with white ownership are more likely to get a loan than businesses with other ethnic ownerships."
   ]
  },
  {
   "cell_type": "markdown",
   "metadata": {},
   "source": [
    "## Look at controlling variables"
   ]
  },
  {
   "cell_type": "code",
   "execution_count": 310,
   "metadata": {},
   "outputs": [
    {
     "data": {
      "image/png": "[encoded data removed]",
      "text/plain": [
       "<Figure size 1200x600 with 1 Axes>"
      ]
     },
     "metadata": {},
     "output_type": "display_data"
    }
   ],
   "source": [
    "# Setting up the figure\n",
    "plt.figure(figsize=(12, 6))\n",
    "\n",
    "# Create the KDE plot\n",
    "sns.kdeplot(data=df, x='log_loan_amount', hue='gender',\n",
    "            palette='viridis',  # Color palette\n",
    "            fill=True,  # Fill the area under the curve\n",
    "            alpha=0.5)  # transparency\n",
    "\n",
    "# Set labels and title\n",
    "plt.xlabel('Log Loan Amount')\n",
    "plt.title('Kernel Density Estimation of Log Loan Amount by Race or Ethnicity')\n",
    "\n",
    "# Show the plot\n",
    "plt.show()"
   ]
  },
  {
   "cell_type": "code",
   "execution_count": 311,
   "metadata": {},
   "outputs": [
    {
     "data": {
      "image/png": "[encoded data removed]",
      "text/plain": [
       "<Figure size 1200x600 with 1 Axes>"
      ]
     },
     "metadata": {},
     "output_type": "display_data"
    }
   ],
   "source": [
    "by_gender = df.groupby(by='gender').aggregate({'loan_amount': ['sum']}).reset_index()\n",
    "\n",
    "plt.figure(figsize=(12, 6))\n",
    "sns.barplot(data=by_gender, x='gender', y=('loan_amount', 'sum'), palette='viridis')\n",
    "\n",
    "plt.xlabel('Gender of Ownership')\n",
    "plt.ylabel('Loan Amount')\n",
    "plt.title('Loan Amount by Gender of Ownership')\n",
    "\n",
    "plt.show()"
   ]
  },
  {
   "cell_type": "code",
   "execution_count": 312,
   "metadata": {},
   "outputs": [
    {
     "data": {
      "image/png": "[encoded data removed]",
      "text/plain": [
       "<Figure size 1200x600 with 1 Axes>"
      ]
     },
     "metadata": {},
     "output_type": "display_data"
    }
   ],
   "source": [
    "by_veteranship = df.groupby(by='veteran').aggregate({'loan_amount': ['sum']}).reset_index()\n",
    "\n",
    "plt.figure(figsize=(12, 6))\n",
    "sns.barplot(data=by_veteranship, x='veteran', y=('loan_amount', 'sum'), palette='viridis')\n",
    "\n",
    "plt.xlabel('Veteranship of Ownership')\n",
    "plt.ylabel('Loan Amount')\n",
    "plt.title('Loan Amount by Veteran Status of Ownership')\n",
    "\n",
    "plt.show()"
   ]
  },
  {
   "cell_type": "code",
   "execution_count": 313,
   "metadata": {},
   "outputs": [
    {
     "data": {
      "image/png": "[encoded data removed]",
      "text/plain": [
       "<Figure size 1200x600 with 1 Axes>"
      ]
     },
     "metadata": {},
     "output_type": "display_data"
    }
   ],
   "source": [
    "by_affiliation = df.groupby(by='affiliation').aggregate({'loan_amount': ['sum']}).reset_index()\n",
    "\n",
    "plt.figure(figsize=(12, 6))\n",
    "sns.barplot(data=by_affiliation, x='affiliation', y=('loan_amount', 'sum'), palette='viridis')\n",
    "\n",
    "plt.xlabel('Political Affiliation of State')\n",
    "plt.ylabel('Loan Amount')\n",
    "plt.title('Loan Amount by Political Affiliation of State')\n",
    "\n",
    "plt.show()"
   ]
  },
  {
   "cell_type": "code",
   "execution_count": 369,
   "metadata": {},
   "outputs": [
    {
     "name": "stderr",
     "output_type": "stream",
     "text": [
      "C:\\Users\\Peti\\AppData\\Local\\Temp\\ipykernel_4464\\1856510643.py:2: UserWarning:\n",
      "\n",
      "Ignoring `palette` because no `hue` variable has been assigned.\n",
      "\n"
     ]
    },
    {
     "data": {
      "image/png": "[encoded data removed]",
      "text/plain": [
       "<Figure size 1000x600 with 1 Axes>"
      ]
     },
     "metadata": {},
     "output_type": "display_data"
    }
   ],
   "source": [
    "plt.figure(figsize=(10, 6))\n",
    "sns.histplot(data=df, x='pct_black_alone', kde=True,palette='viridis')\n",
    "plt.xlabel('Percentage of Black Alone')\n",
    "plt.ylabel('Count')\n",
    "plt.title('Distribution of Percentage of Black Alone')\n",
    "plt.show()"
   ]
  },
  {
   "cell_type": "code",
   "execution_count": 314,
   "metadata": {},
   "outputs": [
    {
     "data": {
      "image/png": "[encoded data removed]",
      "text/plain": [
       "<Figure size 1200x1000 with 1 Axes>"
      ]
     },
     "metadata": {},
     "output_type": "display_data"
    }
   ],
   "source": [
    "by_state = df.groupby(by='geo_name').aggregate({'loan_amount': ['sum']}).reset_index()\n",
    "\n",
    "plt.figure(figsize=(12, 10))\n",
    "\n",
    "# Create the barplot\n",
    "sns.barplot(data=by_state, y='geo_name', x=('loan_amount', 'sum'),\n",
    "            \n",
    "            orient='h',\n",
    "            palette='viridis')\n",
    "\n",
    "plt.xlabel('Loan Amount (log scale)')\n",
    "plt.ylabel('State')\n",
    "plt.title('Total Loan Amount by State')\n",
    "\n",
    "plt.show()\n"
   ]
  },
  {
   "cell_type": "code",
   "execution_count": 315,
   "metadata": {},
   "outputs": [
    {
     "data": {
      "application/vnd.plotly.v1+json": {
       "config": {
        "plotlyServerURL": "https://plot.ly"
       },
       "data": [
        {
         "alignmentgroup": "True",
         "hovertemplate": "sum=%{marker.color}<br>State=%{y}<extra></extra>",
         "legendgroup": "",
         "marker": {
          "color": [
           260.88313773861086,
           239.73780890074244,
           276.41400624446334,
           251.6974036963391,
           314.8590917336559,
           275.41869146437443,
           261.9810078310699,
           242.9870076181783,
           249.53257731582292,
           298.8332623329758,
           287.60410535564483,
           257.6008571367084,
           231.70421795828574,
           289.78168414718857,
           271.031392801332,
           246.98321579683312,
           251.71153268771113,
           249.6998993866453,
           269.84843965794835,
           228.10515060057855,
           278.00229385090046,
           275.17631414930287,
           277.0329800718377,
           267.29083004390566,
           254.17627149550322,
           266.3178140856122,
           230.52998450833246,
           246.6442003186718,
           272.09008468379653,
           224.7221085846719,
           279.4298847595816,
           252.9777232087527,
           291.8520755143223,
           275.9096038954505,
           204.06680691811832,
           282.7977707658165,
           258.22925620165626,
           263.28935253889847,
           277.4804543700059,
           226.6672795520795,
           263.7225495401732,
           219.69665656259284,
           267.0886878108042,
           304.4572472269644,
           244.1649306456466,
           171.34244052151226,
           283.27820225440666,
           279.57816078597267,
           232.05592020470348,
           262.43673697222505,
           217.48724783538458
          ],
          "coloraxis": "coloraxis",
          "pattern": {
           "shape": ""
          }
         },
         "name": "",
         "offsetgroup": "",
         "orientation": "h",
         "showlegend": false,
         "textposition": "auto",
         "type": "bar",
         "x": [
          260.88313773861086,
          239.73780890074244,
          276.41400624446334,
          251.6974036963391,
          314.8590917336559,
          275.41869146437443,
          261.9810078310699,
          242.9870076181783,
          249.53257731582292,
          298.8332623329758,
          287.60410535564483,
          257.6008571367084,
          231.70421795828574,
          289.78168414718857,
          271.031392801332,
          246.98321579683312,
          251.71153268771113,
          249.6998993866453,
          269.84843965794835,
          228.10515060057855,
          278.00229385090046,
          275.17631414930287,
          277.0329800718377,
          267.29083004390566,
          254.17627149550322,
          266.3178140856122,
          230.52998450833246,
          246.6442003186718,
          272.09008468379653,
          224.7221085846719,
          279.4298847595816,
          252.9777232087527,
          291.8520755143223,
          275.9096038954505,
          204.06680691811832,
          282.7977707658165,
          258.22925620165626,
          263.28935253889847,
          277.4804543700059,
          226.6672795520795,
          263.7225495401732,
          219.69665656259284,
          267.0886878108042,
          304.4572472269644,
          244.1649306456466,
          171.34244052151226,
          283.27820225440666,
          279.57816078597267,
          232.05592020470348,
          262.43673697222505,
          217.48724783538458
         ],
         "xaxis": "x",
         "y": [
          "Alabama",
          "Alaska",
          "Arizona",
          "Arkansas",
          "California",
          "Colorado",
          "Connecticut",
          "Delaware",
          "District of Columbia",
          "Florida",
          "Georgia",
          "Hawaii",
          "Idaho",
          "Illinois",
          "Indiana",
          "Iowa",
          "Kansas",
          "Kentucky",
          "Louisiana",
          "Maine",
          "Maryland",
          "Massachusetts",
          "Michigan",
          "Minnesota",
          "Mississippi",
          "Missouri",
          "Montana",
          "Nebraska",
          "Nevada",
          "New Hampshire",
          "New Jersey",
          "New Mexico",
          "New York",
          "North Carolina",
          "North Dakota",
          "Ohio",
          "Oklahoma",
          "Oregon",
          "Pennsylvania",
          "Rhode Island",
          "South Carolina",
          "South Dakota",
          "Tennessee",
          "Texas",
          "Utah",
          "Vermont",
          "Virginia",
          "Washington",
          "West Virginia",
          "Wisconsin",
          "Wyoming"
         ],
         "yaxis": "y"
        }
       ],
       "layout": {
        "barmode": "relative",
        "coloraxis": {
         "colorbar": {
          "title": {
           "text": "sum"
          }
         },
         "colorscale": [
          [
           0,
           "#440154"
          ],
          [
           0.1111111111111111,
           "#482878"
          ],
          [
           0.2222222222222222,
           "#3e4989"
          ],
          [
           0.3333333333333333,
           "#31688e"
          ],
          [
           0.4444444444444444,
           "#26828e"
          ],
          [
           0.5555555555555556,
           "#1f9e89"
          ],
          [
           0.6666666666666666,
           "#35b779"
          ],
          [
           0.7777777777777778,
           "#6ece58"
          ],
          [
           0.8888888888888888,
           "#b5de2b"
          ],
          [
           1,
           "#fde725"
          ]
         ]
        },
        "height": 1200,
        "legend": {
         "tracegroupgap": 0
        },
        "template": {
         "data": {
          "bar": [
           {
            "error_x": {
             "color": "rgb(36,36,36)"
            },
            "error_y": {
             "color": "rgb(36,36,36)"
            },
            "marker": {
             "line": {
              "color": "white",
              "width": 0.5
             },
             "pattern": {
              "fillmode": "overlay",
              "size": 10,
              "solidity": 0.2
             }
            },
            "type": "bar"
           }
          ],
          "barpolar": [
           {
            "marker": {
             "line": {
              "color": "white",
              "width": 0.5
             },
             "pattern": {
              "fillmode": "overlay",
              "size": 10,
              "solidity": 0.2
             }
            },
            "type": "barpolar"
           }
          ],
          "carpet": [
           {
            "aaxis": {
             "endlinecolor": "rgb(36,36,36)",
             "gridcolor": "white",
             "linecolor": "white",
             "minorgridcolor": "white",
             "startlinecolor": "rgb(36,36,36)"
            },
            "baxis": {
             "endlinecolor": "rgb(36,36,36)",
             "gridcolor": "white",
             "linecolor": "white",
             "minorgridcolor": "white",
             "startlinecolor": "rgb(36,36,36)"
            },
            "type": "carpet"
           }
          ],
          "choropleth": [
           {
            "colorbar": {
             "outlinewidth": 1,
             "tickcolor": "rgb(36,36,36)",
             "ticks": "outside"
            },
            "type": "choropleth"
           }
          ],
          "contour": [
           {
            "colorbar": {
             "outlinewidth": 1,
             "tickcolor": "rgb(36,36,36)",
             "ticks": "outside"
            },
            "colorscale": [
             [
              0,
              "#440154"
             ],
             [
              0.1111111111111111,
              "#482878"
             ],
             [
              0.2222222222222222,
              "#3e4989"
             ],
             [
              0.3333333333333333,
              "#31688e"
             ],
             [
              0.4444444444444444,
              "#26828e"
             ],
             [
              0.5555555555555556,
              "#1f9e89"
             ],
             [
              0.6666666666666666,
              "#35b779"
             ],
             [
              0.7777777777777778,
              "#6ece58"
             ],
             [
              0.8888888888888888,
              "#b5de2b"
             ],
             [
              1,
              "#fde725"
             ]
            ],
            "type": "contour"
           }
          ],
          "contourcarpet": [
           {
            "colorbar": {
             "outlinewidth": 1,
             "tickcolor": "rgb(36,36,36)",
             "ticks": "outside"
            },
            "type": "contourcarpet"
           }
          ],
          "heatmap": [
           {
            "colorbar": {
             "outlinewidth": 1,
             "tickcolor": "rgb(36,36,36)",
             "ticks": "outside"
            },
            "colorscale": [
             [
              0,
              "#440154"
             ],
             [
              0.1111111111111111,
              "#482878"
             ],
             [
              0.2222222222222222,
              "#3e4989"
             ],
             [
              0.3333333333333333,
              "#31688e"
             ],
             [
              0.4444444444444444,
              "#26828e"
             ],
             [
              0.5555555555555556,
              "#1f9e89"
             ],
             [
              0.6666666666666666,
              "#35b779"
             ],
             [
              0.7777777777777778,
              "#6ece58"
             ],
             [
              0.8888888888888888,
              "#b5de2b"
             ],
             [
              1,
              "#fde725"
             ]
            ],
            "type": "heatmap"
           }
          ],
          "heatmapgl": [
           {
            "colorbar": {
             "outlinewidth": 1,
             "tickcolor": "rgb(36,36,36)",
             "ticks": "outside"
            },
            "colorscale": [
             [
              0,
              "#440154"
             ],
             [
              0.1111111111111111,
              "#482878"
             ],
             [
              0.2222222222222222,
              "#3e4989"
             ],
             [
              0.3333333333333333,
              "#31688e"
             ],
             [
              0.4444444444444444,
              "#26828e"
             ],
             [
              0.5555555555555556,
              "#1f9e89"
             ],
             [
              0.6666666666666666,
              "#35b779"
             ],
             [
              0.7777777777777778,
              "#6ece58"
             ],
             [
              0.8888888888888888,
              "#b5de2b"
             ],
             [
              1,
              "#fde725"
             ]
            ],
            "type": "heatmapgl"
           }
          ],
          "histogram": [
           {
            "marker": {
             "line": {
              "color": "white",
              "width": 0.6
             }
            },
            "type": "histogram"
           }
          ],
          "histogram2d": [
           {
            "colorbar": {
             "outlinewidth": 1,
             "tickcolor": "rgb(36,36,36)",
             "ticks": "outside"
            },
            "colorscale": [
             [
              0,
              "#440154"
             ],
             [
              0.1111111111111111,
              "#482878"
             ],
             [
              0.2222222222222222,
              "#3e4989"
             ],
             [
              0.3333333333333333,
              "#31688e"
             ],
             [
              0.4444444444444444,
              "#26828e"
             ],
             [
              0.5555555555555556,
              "#1f9e89"
             ],
             [
              0.6666666666666666,
              "#35b779"
             ],
             [
              0.7777777777777778,
              "#6ece58"
             ],
             [
              0.8888888888888888,
              "#b5de2b"
             ],
             [
              1,
              "#fde725"
             ]
            ],
            "type": "histogram2d"
           }
          ],
          "histogram2dcontour": [
           {
            "colorbar": {
             "outlinewidth": 1,
             "tickcolor": "rgb(36,36,36)",
             "ticks": "outside"
            },
            "colorscale": [
             [
              0,
              "#440154"
             ],
             [
              0.1111111111111111,
              "#482878"
             ],
             [
              0.2222222222222222,
              "#3e4989"
             ],
             [
              0.3333333333333333,
              "#31688e"
             ],
             [
              0.4444444444444444,
              "#26828e"
             ],
             [
              0.5555555555555556,
              "#1f9e89"
             ],
             [
              0.6666666666666666,
              "#35b779"
             ],
             [
              0.7777777777777778,
              "#6ece58"
             ],
             [
              0.8888888888888888,
              "#b5de2b"
             ],
             [
              1,
              "#fde725"
             ]
            ],
            "type": "histogram2dcontour"
           }
          ],
          "mesh3d": [
           {
            "colorbar": {
             "outlinewidth": 1,
             "tickcolor": "rgb(36,36,36)",
             "ticks": "outside"
            },
            "type": "mesh3d"
           }
          ],
          "parcoords": [
           {
            "line": {
             "colorbar": {
              "outlinewidth": 1,
              "tickcolor": "rgb(36,36,36)",
              "ticks": "outside"
             }
            },
            "type": "parcoords"
           }
          ],
          "pie": [
           {
            "automargin": true,
            "type": "pie"
           }
          ],
          "scatter": [
           {
            "fillpattern": {
             "fillmode": "overlay",
             "size": 10,
             "solidity": 0.2
            },
            "type": "scatter"
           }
          ],
          "scatter3d": [
           {
            "line": {
             "colorbar": {
              "outlinewidth": 1,
              "tickcolor": "rgb(36,36,36)",
              "ticks": "outside"
             }
            },
            "marker": {
             "colorbar": {
              "outlinewidth": 1,
              "tickcolor": "rgb(36,36,36)",
              "ticks": "outside"
             }
            },
            "type": "scatter3d"
           }
          ],
          "scattercarpet": [
           {
            "marker": {
             "colorbar": {
              "outlinewidth": 1,
              "tickcolor": "rgb(36,36,36)",
              "ticks": "outside"
             }
            },
            "type": "scattercarpet"
           }
          ],
          "scattergeo": [
           {
            "marker": {
             "colorbar": {
              "outlinewidth": 1,
              "tickcolor": "rgb(36,36,36)",
              "ticks": "outside"
             }
            },
            "type": "scattergeo"
           }
          ],
          "scattergl": [
           {
            "marker": {
             "colorbar": {
              "outlinewidth": 1,
              "tickcolor": "rgb(36,36,36)",
              "ticks": "outside"
             }
            },
            "type": "scattergl"
           }
          ],
          "scattermapbox": [
           {
            "marker": {
             "colorbar": {
              "outlinewidth": 1,
              "tickcolor": "rgb(36,36,36)",
              "ticks": "outside"
             }
            },
            "type": "scattermapbox"
           }
          ],
          "scatterpolar": [
           {
            "marker": {
             "colorbar": {
              "outlinewidth": 1,
              "tickcolor": "rgb(36,36,36)",
              "ticks": "outside"
             }
            },
            "type": "scatterpolar"
           }
          ],
          "scatterpolargl": [
           {
            "marker": {
             "colorbar": {
              "outlinewidth": 1,
              "tickcolor": "rgb(36,36,36)",
              "ticks": "outside"
             }
            },
            "type": "scatterpolargl"
           }
          ],
          "scatterternary": [
           {
            "marker": {
             "colorbar": {
              "outlinewidth": 1,
              "tickcolor": "rgb(36,36,36)",
              "ticks": "outside"
             }
            },
            "type": "scatterternary"
           }
          ],
          "surface": [
           {
            "colorbar": {
             "outlinewidth": 1,
             "tickcolor": "rgb(36,36,36)",
             "ticks": "outside"
            },
            "colorscale": [
             [
              0,
              "#440154"
             ],
             [
              0.1111111111111111,
              "#482878"
             ],
             [
              0.2222222222222222,
              "#3e4989"
             ],
             [
              0.3333333333333333,
              "#31688e"
             ],
             [
              0.4444444444444444,
              "#26828e"
             ],
             [
              0.5555555555555556,
              "#1f9e89"
             ],
             [
              0.6666666666666666,
              "#35b779"
             ],
             [
              0.7777777777777778,
              "#6ece58"
             ],
             [
              0.8888888888888888,
              "#b5de2b"
             ],
             [
              1,
              "#fde725"
             ]
            ],
            "type": "surface"
           }
          ],
          "table": [
           {
            "cells": {
             "fill": {
              "color": "rgb(237,237,237)"
             },
             "line": {
              "color": "white"
             }
            },
            "header": {
             "fill": {
              "color": "rgb(217,217,217)"
             },
             "line": {
              "color": "white"
             }
            },
            "type": "table"
           }
          ]
         },
         "layout": {
          "annotationdefaults": {
           "arrowhead": 0,
           "arrowwidth": 1
          },
          "autotypenumbers": "strict",
          "coloraxis": {
           "colorbar": {
            "outlinewidth": 1,
            "tickcolor": "rgb(36,36,36)",
            "ticks": "outside"
           }
          },
          "colorscale": {
           "diverging": [
            [
             0,
             "rgb(103,0,31)"
            ],
            [
             0.1,
             "rgb(178,24,43)"
            ],
            [
             0.2,
             "rgb(214,96,77)"
            ],
            [
             0.3,
             "rgb(244,165,130)"
            ],
            [
             0.4,
             "rgb(253,219,199)"
            ],
            [
             0.5,
             "rgb(247,247,247)"
            ],
            [
             0.6,
             "rgb(209,229,240)"
            ],
            [
             0.7,
             "rgb(146,197,222)"
            ],
            [
             0.8,
             "rgb(67,147,195)"
            ],
            [
             0.9,
             "rgb(33,102,172)"
            ],
            [
             1,
             "rgb(5,48,97)"
            ]
           ],
           "sequential": [
            [
             0,
             "#440154"
            ],
            [
             0.1111111111111111,
             "#482878"
            ],
            [
             0.2222222222222222,
             "#3e4989"
            ],
            [
             0.3333333333333333,
             "#31688e"
            ],
            [
             0.4444444444444444,
             "#26828e"
            ],
            [
             0.5555555555555556,
             "#1f9e89"
            ],
            [
             0.6666666666666666,
             "#35b779"
            ],
            [
             0.7777777777777778,
             "#6ece58"
            ],
            [
             0.8888888888888888,
             "#b5de2b"
            ],
            [
             1,
             "#fde725"
            ]
           ],
           "sequentialminus": [
            [
             0,
             "#440154"
            ],
            [
             0.1111111111111111,
             "#482878"
            ],
            [
             0.2222222222222222,
             "#3e4989"
            ],
            [
             0.3333333333333333,
             "#31688e"
            ],
            [
             0.4444444444444444,
             "#26828e"
            ],
            [
             0.5555555555555556,
             "#1f9e89"
            ],
            [
             0.6666666666666666,
             "#35b779"
            ],
            [
             0.7777777777777778,
             "#6ece58"
            ],
            [
             0.8888888888888888,
             "#b5de2b"
            ],
            [
             1,
             "#fde725"
            ]
           ]
          },
          "colorway": [
           "#1F77B4",
           "#FF7F0E",
           "#2CA02C",
           "#D62728",
           "#9467BD",
           "#8C564B",
           "#E377C2",
           "#7F7F7F",
           "#BCBD22",
           "#17BECF"
          ],
          "font": {
           "color": "rgb(36,36,36)"
          },
          "geo": {
           "bgcolor": "white",
           "lakecolor": "white",
           "landcolor": "white",
           "showlakes": true,
           "showland": true,
           "subunitcolor": "white"
          },
          "hoverlabel": {
           "align": "left"
          },
          "hovermode": "closest",
          "mapbox": {
           "style": "light"
          },
          "paper_bgcolor": "white",
          "plot_bgcolor": "white",
          "polar": {
           "angularaxis": {
            "gridcolor": "rgb(232,232,232)",
            "linecolor": "rgb(36,36,36)",
            "showgrid": false,
            "showline": true,
            "ticks": "outside"
           },
           "bgcolor": "white",
           "radialaxis": {
            "gridcolor": "rgb(232,232,232)",
            "linecolor": "rgb(36,36,36)",
            "showgrid": false,
            "showline": true,
            "ticks": "outside"
           }
          },
          "scene": {
           "xaxis": {
            "backgroundcolor": "white",
            "gridcolor": "rgb(232,232,232)",
            "gridwidth": 2,
            "linecolor": "rgb(36,36,36)",
            "showbackground": true,
            "showgrid": false,
            "showline": true,
            "ticks": "outside",
            "zeroline": false,
            "zerolinecolor": "rgb(36,36,36)"
           },
           "yaxis": {
            "backgroundcolor": "white",
            "gridcolor": "rgb(232,232,232)",
            "gridwidth": 2,
            "linecolor": "rgb(36,36,36)",
            "showbackground": true,
            "showgrid": false,
            "showline": true,
            "ticks": "outside",
            "zeroline": false,
            "zerolinecolor": "rgb(36,36,36)"
           },
           "zaxis": {
            "backgroundcolor": "white",
            "gridcolor": "rgb(232,232,232)",
            "gridwidth": 2,
            "linecolor": "rgb(36,36,36)",
            "showbackground": true,
            "showgrid": false,
            "showline": true,
            "ticks": "outside",
            "zeroline": false,
            "zerolinecolor": "rgb(36,36,36)"
           }
          },
          "shapedefaults": {
           "fillcolor": "black",
           "line": {
            "width": 0
           },
           "opacity": 0.3
          },
          "ternary": {
           "aaxis": {
            "gridcolor": "rgb(232,232,232)",
            "linecolor": "rgb(36,36,36)",
            "showgrid": false,
            "showline": true,
            "ticks": "outside"
           },
           "baxis": {
            "gridcolor": "rgb(232,232,232)",
            "linecolor": "rgb(36,36,36)",
            "showgrid": false,
            "showline": true,
            "ticks": "outside"
           },
           "bgcolor": "white",
           "caxis": {
            "gridcolor": "rgb(232,232,232)",
            "linecolor": "rgb(36,36,36)",
            "showgrid": false,
            "showline": true,
            "ticks": "outside"
           }
          },
          "title": {
           "x": 0.05
          },
          "xaxis": {
           "automargin": true,
           "gridcolor": "rgb(232,232,232)",
           "linecolor": "rgb(36,36,36)",
           "showgrid": false,
           "showline": true,
           "ticks": "outside",
           "title": {
            "standoff": 15
           },
           "zeroline": false,
           "zerolinecolor": "rgb(36,36,36)"
          },
          "yaxis": {
           "automargin": true,
           "gridcolor": "rgb(232,232,232)",
           "linecolor": "rgb(36,36,36)",
           "showgrid": false,
           "showline": true,
           "ticks": "outside",
           "title": {
            "standoff": 15
           },
           "zeroline": false,
           "zerolinecolor": "rgb(36,36,36)"
          }
         }
        },
        "title": {
         "text": "Total Log Loan Amount by State"
        },
        "width": 1000,
        "xaxis": {
         "anchor": "y",
         "domain": [
          0,
          1
         ],
         "title": {
          "text": "sum"
         }
        },
        "yaxis": {
         "anchor": "x",
         "domain": [
          0,
          1
         ],
         "title": {
          "text": "State"
         }
        }
       }
      }
     },
     "metadata": {},
     "output_type": "display_data"
    }
   ],
   "source": [
    "by_state = df.groupby(by='geo_name').aggregate({'log_loan_amount': ['sum']}).droplevel(0, axis=1).reset_index()\n",
    "\n",
    "# Create the barplot with continuous color scaling using Plotly Express\n",
    "fig = px.bar(by_state, \n",
    "             x='sum',\n",
    "             y='geo_name', \n",
    "             orientation='h',\n",
    "             color='sum',  # Use log_loan_amount for continuous color scaling\n",
    "             color_continuous_scale='viridis',  # Use 'viridis' color scale\n",
    "             labels={'geo_name': 'State', 'loan_amount': 'Loan Amount (log scale)'},\n",
    "             title='Total Log Loan Amount by State',\n",
    "             template ='simple_white')\n",
    "\n",
    "fig.update_layout(height=1200, width=1000)\n",
    "\n",
    "fig.show()"
   ]
  },
  {
   "cell_type": "code",
   "execution_count": 316,
   "metadata": {},
   "outputs": [
    {
     "data": {
      "application/vnd.plotly.v1+json": {
       "config": {
        "plotlyServerURL": "https://plot.ly"
       },
       "data": [
        {
         "alignmentgroup": "True",
         "hovertemplate": "pct_black_alone=%{marker.color}<br>State=%{y}<extra></extra>",
         "legendgroup": "",
         "marker": {
          "color": [
           26.5,
           3.2,
           4.5,
           15.2,
           5.7,
           4.1,
           10.8,
           22,
           44.7,
           15.7,
           31.5,
           1.9,
           0.7,
           14.1,
           9.4,
           3.7,
           5.6,
           8,
           31.9,
           1.4,
           29.8,
           7.3,
           13.6,
           6.6,
           37.5,
           11.3,
           0.6,
           4.8,
           9.3,
           1.6,
           13.3,
           2.1,
           15.2,
           21.2,
           3.1,
           12.3,
           7.2,
           1.9,
           11,
           6.4,
           26.2,
           2.2,
           16.5,
           12.1,
           1.2,
           1.3,
           19,
           3.9,
           3.4,
           6.3,
           0.9
          ],
          "coloraxis": "coloraxis",
          "pattern": {
           "shape": ""
          }
         },
         "name": "",
         "offsetgroup": "",
         "orientation": "h",
         "showlegend": false,
         "textposition": "auto",
         "type": "bar",
         "x": [
          26.5,
          3.2,
          4.5,
          15.2,
          5.7,
          4.1,
          10.8,
          22,
          44.7,
          15.7,
          31.5,
          1.9,
          0.7,
          14.1,
          9.4,
          3.7,
          5.6,
          8,
          31.9,
          1.4,
          29.8,
          7.3,
          13.6,
          6.6,
          37.5,
          11.3,
          0.6,
          4.8,
          9.3,
          1.6,
          13.3,
          2.1,
          15.2,
          21.2,
          3.1,
          12.3,
          7.2,
          1.9,
          11,
          6.4,
          26.2,
          2.2,
          16.5,
          12.1,
          1.2,
          1.3,
          19,
          3.9,
          3.4,
          6.3,
          0.9
         ],
         "xaxis": "x",
         "y": [
          "Alabama",
          "Alaska",
          "Arizona",
          "Arkansas",
          "California",
          "Colorado",
          "Connecticut",
          "Delaware",
          "District of Columbia",
          "Florida",
          "Georgia",
          "Hawaii",
          "Idaho",
          "Illinois",
          "Indiana",
          "Iowa",
          "Kansas",
          "Kentucky",
          "Louisiana",
          "Maine",
          "Maryland",
          "Massachusetts",
          "Michigan",
          "Minnesota",
          "Mississippi",
          "Missouri",
          "Montana",
          "Nebraska",
          "Nevada",
          "New Hampshire",
          "New Jersey",
          "New Mexico",
          "New York",
          "North Carolina",
          "North Dakota",
          "Ohio",
          "Oklahoma",
          "Oregon",
          "Pennsylvania",
          "Rhode Island",
          "South Carolina",
          "South Dakota",
          "Tennessee",
          "Texas",
          "Utah",
          "Vermont",
          "Virginia",
          "Washington",
          "West Virginia",
          "Wisconsin",
          "Wyoming"
         ],
         "yaxis": "y"
        }
       ],
       "layout": {
        "barmode": "relative",
        "coloraxis": {
         "colorbar": {
          "title": {
           "text": "pct_black_alone"
          }
         },
         "colorscale": [
          [
           0,
           "#440154"
          ],
          [
           0.1111111111111111,
           "#482878"
          ],
          [
           0.2222222222222222,
           "#3e4989"
          ],
          [
           0.3333333333333333,
           "#31688e"
          ],
          [
           0.4444444444444444,
           "#26828e"
          ],
          [
           0.5555555555555556,
           "#1f9e89"
          ],
          [
           0.6666666666666666,
           "#35b779"
          ],
          [
           0.7777777777777778,
           "#6ece58"
          ],
          [
           0.8888888888888888,
           "#b5de2b"
          ],
          [
           1,
           "#fde725"
          ]
         ]
        },
        "height": 1200,
        "legend": {
         "tracegroupgap": 0
        },
        "template": {
         "data": {
          "bar": [
           {
            "error_x": {
             "color": "rgb(36,36,36)"
            },
            "error_y": {
             "color": "rgb(36,36,36)"
            },
            "marker": {
             "line": {
              "color": "white",
              "width": 0.5
             },
             "pattern": {
              "fillmode": "overlay",
              "size": 10,
              "solidity": 0.2
             }
            },
            "type": "bar"
           }
          ],
          "barpolar": [
           {
            "marker": {
             "line": {
              "color": "white",
              "width": 0.5
             },
             "pattern": {
              "fillmode": "overlay",
              "size": 10,
              "solidity": 0.2
             }
            },
            "type": "barpolar"
           }
          ],
          "carpet": [
           {
            "aaxis": {
             "endlinecolor": "rgb(36,36,36)",
             "gridcolor": "white",
             "linecolor": "white",
             "minorgridcolor": "white",
             "startlinecolor": "rgb(36,36,36)"
            },
            "baxis": {
             "endlinecolor": "rgb(36,36,36)",
             "gridcolor": "white",
             "linecolor": "white",
             "minorgridcolor": "white",
             "startlinecolor": "rgb(36,36,36)"
            },
            "type": "carpet"
           }
          ],
          "choropleth": [
           {
            "colorbar": {
             "outlinewidth": 1,
             "tickcolor": "rgb(36,36,36)",
             "ticks": "outside"
            },
            "type": "choropleth"
           }
          ],
          "contour": [
           {
            "colorbar": {
             "outlinewidth": 1,
             "tickcolor": "rgb(36,36,36)",
             "ticks": "outside"
            },
            "colorscale": [
             [
              0,
              "#440154"
             ],
             [
              0.1111111111111111,
              "#482878"
             ],
             [
              0.2222222222222222,
              "#3e4989"
             ],
             [
              0.3333333333333333,
              "#31688e"
             ],
             [
              0.4444444444444444,
              "#26828e"
             ],
             [
              0.5555555555555556,
              "#1f9e89"
             ],
             [
              0.6666666666666666,
              "#35b779"
             ],
             [
              0.7777777777777778,
              "#6ece58"
             ],
             [
              0.8888888888888888,
              "#b5de2b"
             ],
             [
              1,
              "#fde725"
             ]
            ],
            "type": "contour"
           }
          ],
          "contourcarpet": [
           {
            "colorbar": {
             "outlinewidth": 1,
             "tickcolor": "rgb(36,36,36)",
             "ticks": "outside"
            },
            "type": "contourcarpet"
           }
          ],
          "heatmap": [
           {
            "colorbar": {
             "outlinewidth": 1,
             "tickcolor": "rgb(36,36,36)",
             "ticks": "outside"
            },
            "colorscale": [
             [
              0,
              "#440154"
             ],
             [
              0.1111111111111111,
              "#482878"
             ],
             [
              0.2222222222222222,
              "#3e4989"
             ],
             [
              0.3333333333333333,
              "#31688e"
             ],
             [
              0.4444444444444444,
              "#26828e"
             ],
             [
              0.5555555555555556,
              "#1f9e89"
             ],
             [
              0.6666666666666666,
              "#35b779"
             ],
             [
              0.7777777777777778,
              "#6ece58"
             ],
             [
              0.8888888888888888,
              "#b5de2b"
             ],
             [
              1,
              "#fde725"
             ]
            ],
            "type": "heatmap"
           }
          ],
          "heatmapgl": [
           {
            "colorbar": {
             "outlinewidth": 1,
             "tickcolor": "rgb(36,36,36)",
             "ticks": "outside"
            },
            "colorscale": [
             [
              0,
              "#440154"
             ],
             [
              0.1111111111111111,
              "#482878"
             ],
             [
              0.2222222222222222,
              "#3e4989"
             ],
             [
              0.3333333333333333,
              "#31688e"
             ],
             [
              0.4444444444444444,
              "#26828e"
             ],
             [
              0.5555555555555556,
              "#1f9e89"
             ],
             [
              0.6666666666666666,
              "#35b779"
             ],
             [
              0.7777777777777778,
              "#6ece58"
             ],
             [
              0.8888888888888888,
              "#b5de2b"
             ],
             [
              1,
              "#fde725"
             ]
            ],
            "type": "heatmapgl"
           }
          ],
          "histogram": [
           {
            "marker": {
             "line": {
              "color": "white",
              "width": 0.6
             }
            },
            "type": "histogram"
           }
          ],
          "histogram2d": [
           {
            "colorbar": {
             "outlinewidth": 1,
             "tickcolor": "rgb(36,36,36)",
             "ticks": "outside"
            },
            "colorscale": [
             [
              0,
              "#440154"
             ],
             [
              0.1111111111111111,
              "#482878"
             ],
             [
              0.2222222222222222,
              "#3e4989"
             ],
             [
              0.3333333333333333,
              "#31688e"
             ],
             [
              0.4444444444444444,
              "#26828e"
             ],
             [
              0.5555555555555556,
              "#1f9e89"
             ],
             [
              0.6666666666666666,
              "#35b779"
             ],
             [
              0.7777777777777778,
              "#6ece58"
             ],
             [
              0.8888888888888888,
              "#b5de2b"
             ],
             [
              1,
              "#fde725"
             ]
            ],
            "type": "histogram2d"
           }
          ],
          "histogram2dcontour": [
           {
            "colorbar": {
             "outlinewidth": 1,
             "tickcolor": "rgb(36,36,36)",
             "ticks": "outside"
            },
            "colorscale": [
             [
              0,
              "#440154"
             ],
             [
              0.1111111111111111,
              "#482878"
             ],
             [
              0.2222222222222222,
              "#3e4989"
             ],
             [
              0.3333333333333333,
              "#31688e"
             ],
             [
              0.4444444444444444,
              "#26828e"
             ],
             [
              0.5555555555555556,
              "#1f9e89"
             ],
             [
              0.6666666666666666,
              "#35b779"
             ],
             [
              0.7777777777777778,
              "#6ece58"
             ],
             [
              0.8888888888888888,
              "#b5de2b"
             ],
             [
              1,
              "#fde725"
             ]
            ],
            "type": "histogram2dcontour"
           }
          ],
          "mesh3d": [
           {
            "colorbar": {
             "outlinewidth": 1,
             "tickcolor": "rgb(36,36,36)",
             "ticks": "outside"
            },
            "type": "mesh3d"
           }
          ],
          "parcoords": [
           {
            "line": {
             "colorbar": {
              "outlinewidth": 1,
              "tickcolor": "rgb(36,36,36)",
              "ticks": "outside"
             }
            },
            "type": "parcoords"
           }
          ],
          "pie": [
           {
            "automargin": true,
            "type": "pie"
           }
          ],
          "scatter": [
           {
            "fillpattern": {
             "fillmode": "overlay",
             "size": 10,
             "solidity": 0.2
            },
            "type": "scatter"
           }
          ],
          "scatter3d": [
           {
            "line": {
             "colorbar": {
              "outlinewidth": 1,
              "tickcolor": "rgb(36,36,36)",
              "ticks": "outside"
             }
            },
            "marker": {
             "colorbar": {
              "outlinewidth": 1,
              "tickcolor": "rgb(36,36,36)",
              "ticks": "outside"
             }
            },
            "type": "scatter3d"
           }
          ],
          "scattercarpet": [
           {
            "marker": {
             "colorbar": {
              "outlinewidth": 1,
              "tickcolor": "rgb(36,36,36)",
              "ticks": "outside"
             }
            },
            "type": "scattercarpet"
           }
          ],
          "scattergeo": [
           {
            "marker": {
             "colorbar": {
              "outlinewidth": 1,
              "tickcolor": "rgb(36,36,36)",
              "ticks": "outside"
             }
            },
            "type": "scattergeo"
           }
          ],
          "scattergl": [
           {
            "marker": {
             "colorbar": {
              "outlinewidth": 1,
              "tickcolor": "rgb(36,36,36)",
              "ticks": "outside"
             }
            },
            "type": "scattergl"
           }
          ],
          "scattermapbox": [
           {
            "marker": {
             "colorbar": {
              "outlinewidth": 1,
              "tickcolor": "rgb(36,36,36)",
              "ticks": "outside"
             }
            },
            "type": "scattermapbox"
           }
          ],
          "scatterpolar": [
           {
            "marker": {
             "colorbar": {
              "outlinewidth": 1,
              "tickcolor": "rgb(36,36,36)",
              "ticks": "outside"
             }
            },
            "type": "scatterpolar"
           }
          ],
          "scatterpolargl": [
           {
            "marker": {
             "colorbar": {
              "outlinewidth": 1,
              "tickcolor": "rgb(36,36,36)",
              "ticks": "outside"
             }
            },
            "type": "scatterpolargl"
           }
          ],
          "scatterternary": [
           {
            "marker": {
             "colorbar": {
              "outlinewidth": 1,
              "tickcolor": "rgb(36,36,36)",
              "ticks": "outside"
             }
            },
            "type": "scatterternary"
           }
          ],
          "surface": [
           {
            "colorbar": {
             "outlinewidth": 1,
             "tickcolor": "rgb(36,36,36)",
             "ticks": "outside"
            },
            "colorscale": [
             [
              0,
              "#440154"
             ],
             [
              0.1111111111111111,
              "#482878"
             ],
             [
              0.2222222222222222,
              "#3e4989"
             ],
             [
              0.3333333333333333,
              "#31688e"
             ],
             [
              0.4444444444444444,
              "#26828e"
             ],
             [
              0.5555555555555556,
              "#1f9e89"
             ],
             [
              0.6666666666666666,
              "#35b779"
             ],
             [
              0.7777777777777778,
              "#6ece58"
             ],
             [
              0.8888888888888888,
              "#b5de2b"
             ],
             [
              1,
              "#fde725"
             ]
            ],
            "type": "surface"
           }
          ],
          "table": [
           {
            "cells": {
             "fill": {
              "color": "rgb(237,237,237)"
             },
             "line": {
              "color": "white"
             }
            },
            "header": {
             "fill": {
              "color": "rgb(217,217,217)"
             },
             "line": {
              "color": "white"
             }
            },
            "type": "table"
           }
          ]
         },
         "layout": {
          "annotationdefaults": {
           "arrowhead": 0,
           "arrowwidth": 1
          },
          "autotypenumbers": "strict",
          "coloraxis": {
           "colorbar": {
            "outlinewidth": 1,
            "tickcolor": "rgb(36,36,36)",
            "ticks": "outside"
           }
          },
          "colorscale": {
           "diverging": [
            [
             0,
             "rgb(103,0,31)"
            ],
            [
             0.1,
             "rgb(178,24,43)"
            ],
            [
             0.2,
             "rgb(214,96,77)"
            ],
            [
             0.3,
             "rgb(244,165,130)"
            ],
            [
             0.4,
             "rgb(253,219,199)"
            ],
            [
             0.5,
             "rgb(247,247,247)"
            ],
            [
             0.6,
             "rgb(209,229,240)"
            ],
            [
             0.7,
             "rgb(146,197,222)"
            ],
            [
             0.8,
             "rgb(67,147,195)"
            ],
            [
             0.9,
             "rgb(33,102,172)"
            ],
            [
             1,
             "rgb(5,48,97)"
            ]
           ],
           "sequential": [
            [
             0,
             "#440154"
            ],
            [
             0.1111111111111111,
             "#482878"
            ],
            [
             0.2222222222222222,
             "#3e4989"
            ],
            [
             0.3333333333333333,
             "#31688e"
            ],
            [
             0.4444444444444444,
             "#26828e"
            ],
            [
             0.5555555555555556,
             "#1f9e89"
            ],
            [
             0.6666666666666666,
             "#35b779"
            ],
            [
             0.7777777777777778,
             "#6ece58"
            ],
            [
             0.8888888888888888,
             "#b5de2b"
            ],
            [
             1,
             "#fde725"
            ]
           ],
           "sequentialminus": [
            [
             0,
             "#440154"
            ],
            [
             0.1111111111111111,
             "#482878"
            ],
            [
             0.2222222222222222,
             "#3e4989"
            ],
            [
             0.3333333333333333,
             "#31688e"
            ],
            [
             0.4444444444444444,
             "#26828e"
            ],
            [
             0.5555555555555556,
             "#1f9e89"
            ],
            [
             0.6666666666666666,
             "#35b779"
            ],
            [
             0.7777777777777778,
             "#6ece58"
            ],
            [
             0.8888888888888888,
             "#b5de2b"
            ],
            [
             1,
             "#fde725"
            ]
           ]
          },
          "colorway": [
           "#1F77B4",
           "#FF7F0E",
           "#2CA02C",
           "#D62728",
           "#9467BD",
           "#8C564B",
           "#E377C2",
           "#7F7F7F",
           "#BCBD22",
           "#17BECF"
          ],
          "font": {
           "color": "rgb(36,36,36)"
          },
          "geo": {
           "bgcolor": "white",
           "lakecolor": "white",
           "landcolor": "white",
           "showlakes": true,
           "showland": true,
           "subunitcolor": "white"
          },
          "hoverlabel": {
           "align": "left"
          },
          "hovermode": "closest",
          "mapbox": {
           "style": "light"
          },
          "paper_bgcolor": "white",
          "plot_bgcolor": "white",
          "polar": {
           "angularaxis": {
            "gridcolor": "rgb(232,232,232)",
            "linecolor": "rgb(36,36,36)",
            "showgrid": false,
            "showline": true,
            "ticks": "outside"
           },
           "bgcolor": "white",
           "radialaxis": {
            "gridcolor": "rgb(232,232,232)",
            "linecolor": "rgb(36,36,36)",
            "showgrid": false,
            "showline": true,
            "ticks": "outside"
           }
          },
          "scene": {
           "xaxis": {
            "backgroundcolor": "white",
            "gridcolor": "rgb(232,232,232)",
            "gridwidth": 2,
            "linecolor": "rgb(36,36,36)",
            "showbackground": true,
            "showgrid": false,
            "showline": true,
            "ticks": "outside",
            "zeroline": false,
            "zerolinecolor": "rgb(36,36,36)"
           },
           "yaxis": {
            "backgroundcolor": "white",
            "gridcolor": "rgb(232,232,232)",
            "gridwidth": 2,
            "linecolor": "rgb(36,36,36)",
            "showbackground": true,
            "showgrid": false,
            "showline": true,
            "ticks": "outside",
            "zeroline": false,
            "zerolinecolor": "rgb(36,36,36)"
           },
           "zaxis": {
            "backgroundcolor": "white",
            "gridcolor": "rgb(232,232,232)",
            "gridwidth": 2,
            "linecolor": "rgb(36,36,36)",
            "showbackground": true,
            "showgrid": false,
            "showline": true,
            "ticks": "outside",
            "zeroline": false,
            "zerolinecolor": "rgb(36,36,36)"
           }
          },
          "shapedefaults": {
           "fillcolor": "black",
           "line": {
            "width": 0
           },
           "opacity": 0.3
          },
          "ternary": {
           "aaxis": {
            "gridcolor": "rgb(232,232,232)",
            "linecolor": "rgb(36,36,36)",
            "showgrid": false,
            "showline": true,
            "ticks": "outside"
           },
           "baxis": {
            "gridcolor": "rgb(232,232,232)",
            "linecolor": "rgb(36,36,36)",
            "showgrid": false,
            "showline": true,
            "ticks": "outside"
           },
           "bgcolor": "white",
           "caxis": {
            "gridcolor": "rgb(232,232,232)",
            "linecolor": "rgb(36,36,36)",
            "showgrid": false,
            "showline": true,
            "ticks": "outside"
           }
          },
          "title": {
           "x": 0.05
          },
          "xaxis": {
           "automargin": true,
           "gridcolor": "rgb(232,232,232)",
           "linecolor": "rgb(36,36,36)",
           "showgrid": false,
           "showline": true,
           "ticks": "outside",
           "title": {
            "standoff": 15
           },
           "zeroline": false,
           "zerolinecolor": "rgb(36,36,36)"
          },
          "yaxis": {
           "automargin": true,
           "gridcolor": "rgb(232,232,232)",
           "linecolor": "rgb(36,36,36)",
           "showgrid": false,
           "showline": true,
           "ticks": "outside",
           "title": {
            "standoff": 15
           },
           "zeroline": false,
           "zerolinecolor": "rgb(36,36,36)"
          }
         }
        },
        "title": {
         "text": "Percentage of Black People in the Population by State"
        },
        "width": 1000,
        "xaxis": {
         "anchor": "y",
         "domain": [
          0,
          1
         ],
         "title": {
          "text": "pct_black_alone"
         }
        },
        "yaxis": {
         "anchor": "x",
         "domain": [
          0,
          1
         ],
         "title": {
          "text": "State"
         }
        }
       }
      }
     },
     "metadata": {},
     "output_type": "display_data"
    }
   ],
   "source": [
    "# Create the barplot with continuous color scaling using Plotly Express\n",
    "by_pct_blck = df.groupby(by='geo_name').aggregate({'log_loan_amount': 'sum','pct_black_alone':'mean'}).reset_index()\n",
    "\n",
    "fig = px.bar(by_pct_blck, \n",
    "             x='pct_black_alone',\n",
    "             y='geo_name', \n",
    "             orientation='h',\n",
    "             color='pct_black_alone',  # Use log_loan_amount for continuous color scaling\n",
    "             color_continuous_scale='viridis',  # Use 'viridis' color scale\n",
    "             labels={'geo_name': 'State', 'loan_amount': 'Loan Amount (log scale)'},\n",
    "             title='Percentage of Black People in the Population by State',\n",
    "             template ='simple_white')\n",
    "\n",
    "fig.update_layout(height=1200, width=1000)\n",
    "\n",
    "fig.show()"
   ]
  },
  {
   "cell_type": "code",
   "execution_count": 317,
   "metadata": {},
   "outputs": [],
   "source": [
    "# creating dummy variables\n",
    "# for white owned businesses\n",
    "df['white_owned'] = df['race_or_ethnicity'].apply(lambda x: 1 if x == 'White' else 0)\n",
    "\n",
    "# for male owned businesses\n",
    "df['male_owned'] = df['gender'].apply(lambda x: 1 if x == 'Male Owned' else 0)\n",
    "\n",
    "# for Non-Veteran owned businesses\n",
    "df['non-veteran_owned'] = df['veteran'].apply(lambda x: 1 if x == 'Non-Veteran' else 0)\n",
    "\n",
    "# for Republican states\n",
    "df['republican'] = df['affiliation'].apply(lambda x: 1 if x == 'R' else 0)"
   ]
  },
  {
   "cell_type": "code",
   "execution_count": 318,
   "metadata": {},
   "outputs": [
    {
     "name": "stdout",
     "output_type": "stream",
     "text": [
      "0    603\n",
      "1    204\n",
      "Name: white_owned, dtype: int64\n",
      "-------------------\n",
      "1    405\n",
      "0    402\n",
      "Name: male_owned, dtype: int64\n",
      "-------------------\n",
      "1    408\n",
      "0    399\n",
      "Name: non-veteran_owned, dtype: int64\n",
      "-------------------\n",
      "1    504\n",
      "0    303\n",
      "Name: republican, dtype: int64\n",
      "-------------------\n"
     ]
    }
   ],
   "source": [
    "for col in df[['white_owned','male_owned','non-veteran_owned','republican']]:\n",
    "    print(df[col].value_counts())\n",
    "    print('-------------------')"
   ]
  },
  {
   "cell_type": "code",
   "execution_count": 319,
   "metadata": {},
   "outputs": [
    {
     "data": {
      "image/png": "[encoded data removed]",
      "text/plain": [
       "<Figure size 1000x600 with 1 Axes>"
      ]
     },
     "metadata": {},
     "output_type": "display_data"
    }
   ],
   "source": [
    "# Create the Seaborn plot\n",
    "plt.figure(figsize=(10, 6))\n",
    "\n",
    "# Smoothed line using Seaborn's regplot\n",
    "sns.regplot(data=df, x='log_loan_amount', y='white_owned', lowess=True, scatter=False, color='blue')\n",
    "\n",
    "# Set labels and title\n",
    "plt.xlabel('Log Loan Amount')\n",
    "plt.ylabel('Probability of White Ownership')\n",
    "plt.title('White Ownership Probability by Log Loan Amount')\n",
    "\n",
    "# Set axis limits and ticks\n",
    "plt.xlim(5.5, 23)  # Adjust based on your data range\n",
    "plt.ylim(0, 1)  # Assuming white_ownership is between 0 and 1\n",
    "plt.xticks(np.arange(6, 24, 1))  # Adjust based on your data range\n",
    "plt.yticks(np.arange(0, 1.1, 0.1))\n",
    "\n",
    "# Display the plot\n",
    "plt.grid(True)\n",
    "plt.show()\n"
   ]
  },
  {
   "cell_type": "code",
   "execution_count": 321,
   "metadata": {},
   "outputs": [
    {
     "data": {
      "text/plain": [
       "<Figure size 800x600 with 0 Axes>"
      ]
     },
     "metadata": {},
     "output_type": "display_data"
    },
    {
     "data": {
      "image/png": "[encoded data removed]",
      "text/plain": [
       "<Figure size 800x600 with 1 Axes>"
      ]
     },
     "metadata": {},
     "output_type": "display_data"
    }
   ],
   "source": [
    "plt.figure(figsize=(8, 6))\n",
    "\n",
    "# Calculate the proportion of male_owned for each category of white_owned\n",
    "proportions = df.groupby('white_owned')['male_owned'].sum()\n",
    "\n",
    "# Create the pie chart with specified labels, colors, and explode\n",
    "plt.figure(figsize=(8, 6))\n",
    "plt.pie(proportions,\n",
    "        labels=['Not Male Owned', 'Male Owned'],\n",
    "        colors=[(0.2363, 0.3986, 0.5104, 1.0),(0.2719, 0.6549, 0.4705, 1.0)], # get colors from viridis palette\n",
    "        explode=(0.1, 0),\n",
    "        autopct='%1.1f%%',\n",
    "        startangle=140)\n",
    "plt.title('Proportion of Male Owned Given White Owned')\n",
    "plt.show()\n"
   ]
  },
  {
   "cell_type": "code",
   "execution_count": 339,
   "metadata": {},
   "outputs": [
    {
     "data": {
      "text/plain": [
       "<Figure size 800x600 with 0 Axes>"
      ]
     },
     "metadata": {},
     "output_type": "display_data"
    },
    {
     "data": {
      "image/png": "[encoded data removed]",
      "text/plain": [
       "<Figure size 800x600 with 1 Axes>"
      ]
     },
     "metadata": {},
     "output_type": "display_data"
    }
   ],
   "source": [
    "plt.figure(figsize=(8, 6))\n",
    "\n",
    "# Calculate the proportion of male_owned for each category of white_owned\n",
    "proportions = df.groupby('white_owned')['non-veteran_owned'].sum()\n",
    "\n",
    "# Create the pie chart with specified labels, colors, and explode\n",
    "plt.figure(figsize=(8, 6))\n",
    "plt.pie(proportions,\n",
    "        labels=['Veteran Owned', 'Non-Veteran Owned'],\n",
    "        colors=[(0.2363, 0.3986, 0.5104, 1.0),(0.2719, 0.6549, 0.4705, 1.0)], # get colors from viridis palette\n",
    "        explode=(0.1, 0),\n",
    "        autopct='%1.1f%%',\n",
    "        startangle=140)\n",
    "plt.title('Proportion of Non-Veteran Owned Given White Owned')\n",
    "plt.show()\n"
   ]
  },
  {
   "cell_type": "code",
   "execution_count": 348,
   "metadata": {},
   "outputs": [
    {
     "data": {
      "text/plain": [
       "<Figure size 800x600 with 0 Axes>"
      ]
     },
     "metadata": {},
     "output_type": "display_data"
    },
    {
     "data": {
      "image/png": "[encoded data removed]",
      "text/plain": [
       "<Figure size 800x600 with 1 Axes>"
      ]
     },
     "metadata": {},
     "output_type": "display_data"
    }
   ],
   "source": [
    "plt.figure(figsize=(8, 6))\n",
    "\n",
    "# Calculate the proportion of male_owned for each category of white_owned\n",
    "proportions = df.groupby('white_owned')['republican'].sum()\n",
    "\n",
    "# Create the pie chart with specified labels, colors, and explode\n",
    "plt.figure(figsize=(8, 6))\n",
    "plt.pie(proportions,\n",
    "        labels=['Democratic', 'Republican'],\n",
    "        colors=[(0.2363, 0.3986, 0.5104, 1.0),(0.2719, 0.6549, 0.4705, 1.0)], # get colors from viridis palette\n",
    "        explode=(0.1, 0),\n",
    "        autopct='%1.1f%%',\n",
    "        startangle=140)\n",
    "plt.title('Proportion of Non-Veteran Owned Given White Owned')\n",
    "plt.show()"
   ]
  },
  {
   "cell_type": "code",
   "execution_count": null,
   "metadata": {},
   "outputs": [],
   "source": []
  }
 ],
 "metadata": {
  "kernelspec": {
   "display_name": "base",
   "language": "python",
   "name": "python3"
  },
  "language_info": {
   "codemirror_mode": {
    "name": "ipython",
    "version": 3
   },
   "file_extension": ".py",
   "mimetype": "text/x-python",
   "name": "python",
   "nbconvert_exporter": "python",
   "pygments_lexer": "ipython3",
   "version": "3.11.4"
  }
 },
 "nbformat": 4,
 "nbformat_minor": 2
}
