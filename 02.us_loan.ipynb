{
 "cells": [
  {
   "cell_type": "code",
   "execution_count": 25,
   "metadata": {},
   "outputs": [],
   "source": [
    "# import necessary libraries\n",
    "import pandas as pd\n",
    "import numpy as np\n",
    "import seaborn as sns\n",
    "import plotly.express as px\n",
    "import matplotlib.pyplot as plt"
   ]
  },
  {
   "cell_type": "code",
   "execution_count": 3,
   "metadata": {},
   "outputs": [],
   "source": [
    "# import data which is already filtered using the 01_filter_data.ipynb file\n",
    "df = pd.read_csv('https://raw.githubusercontent.com/szilvasipeter2000/Data-Analysis-2/main/data/loan_data.csv')"
   ]
  },
  {
   "cell_type": "markdown",
   "metadata": {},
   "source": [
    "---\n",
    "# 00. EDA\n",
    "--- "
   ]
  },
  {
   "cell_type": "code",
   "execution_count": 4,
   "metadata": {},
   "outputs": [
    {
     "data": {
      "text/html": [
       "<div>\n",
       "<style scoped>\n",
       "    .dataframe tbody tr th:only-of-type {\n",
       "        vertical-align: middle;\n",
       "    }\n",
       "\n",
       "    .dataframe tbody tr th {\n",
       "        vertical-align: top;\n",
       "    }\n",
       "\n",
       "    .dataframe thead th {\n",
       "        text-align: right;\n",
       "    }\n",
       "</style>\n",
       "<table border=\"1\" class=\"dataframe\">\n",
       "  <thead>\n",
       "    <tr style=\"text-align: right;\">\n",
       "      <th></th>\n",
       "      <th>geo_name</th>\n",
       "      <th>geo_level</th>\n",
       "      <th>race_or_ethnicity</th>\n",
       "      <th>gender</th>\n",
       "      <th>veteran</th>\n",
       "      <th>number_of_loans</th>\n",
       "      <th>loan_amount</th>\n",
       "      <th>quartiles_number_of_loans</th>\n",
       "      <th>quartiles_loan_amount</th>\n",
       "      <th>percentile_number_of_loans</th>\n",
       "      <th>percentile_loan_amount</th>\n",
       "      <th>pct_black_alone</th>\n",
       "    </tr>\n",
       "  </thead>\n",
       "  <tbody>\n",
       "    <tr>\n",
       "      <th>0</th>\n",
       "      <td>Montana</td>\n",
       "      <td>state</td>\n",
       "      <td>Hispanic</td>\n",
       "      <td>Female Owned</td>\n",
       "      <td>Veteran</td>\n",
       "      <td>8</td>\n",
       "      <td>376256</td>\n",
       "      <td>Bottom 25% of geographies</td>\n",
       "      <td>26-50% of geographies</td>\n",
       "      <td>22</td>\n",
       "      <td>30</td>\n",
       "      <td>0.6</td>\n",
       "    </tr>\n",
       "    <tr>\n",
       "      <th>1</th>\n",
       "      <td>Arizona</td>\n",
       "      <td>state</td>\n",
       "      <td>White</td>\n",
       "      <td>Male Owned</td>\n",
       "      <td>Non-Veteran</td>\n",
       "      <td>10472</td>\n",
       "      <td>947717925</td>\n",
       "      <td>26-50% of geographies</td>\n",
       "      <td>51-75% of geographies</td>\n",
       "      <td>48</td>\n",
       "      <td>60</td>\n",
       "      <td>4.5</td>\n",
       "    </tr>\n",
       "    <tr>\n",
       "      <th>2</th>\n",
       "      <td>Montana</td>\n",
       "      <td>state</td>\n",
       "      <td>Hispanic</td>\n",
       "      <td>Female Owned</td>\n",
       "      <td>Non-Veteran</td>\n",
       "      <td>96</td>\n",
       "      <td>2776646</td>\n",
       "      <td>Bottom 25% of geographies</td>\n",
       "      <td>Bottom 25% of geographies</td>\n",
       "      <td>12</td>\n",
       "      <td>10</td>\n",
       "      <td>0.6</td>\n",
       "    </tr>\n",
       "    <tr>\n",
       "      <th>3</th>\n",
       "      <td>Nebraska</td>\n",
       "      <td>state</td>\n",
       "      <td>Hispanic</td>\n",
       "      <td>Male Owned</td>\n",
       "      <td>Non-Veteran</td>\n",
       "      <td>606</td>\n",
       "      <td>23311905</td>\n",
       "      <td>26-50% of geographies</td>\n",
       "      <td>26-50% of geographies</td>\n",
       "      <td>40</td>\n",
       "      <td>26</td>\n",
       "      <td>4.8</td>\n",
       "    </tr>\n",
       "    <tr>\n",
       "      <th>4</th>\n",
       "      <td>Louisiana</td>\n",
       "      <td>state</td>\n",
       "      <td>Asian</td>\n",
       "      <td>Male Owned</td>\n",
       "      <td>Veteran</td>\n",
       "      <td>13</td>\n",
       "      <td>403325</td>\n",
       "      <td>26-50% of geographies</td>\n",
       "      <td>26-50% of geographies</td>\n",
       "      <td>41</td>\n",
       "      <td>37</td>\n",
       "      <td>31.9</td>\n",
       "    </tr>\n",
       "  </tbody>\n",
       "</table>\n",
       "</div>"
      ],
      "text/plain": [
       "    geo_name geo_level race_or_ethnicity        gender      veteran  \\\n",
       "0    Montana     state          Hispanic  Female Owned      Veteran   \n",
       "1    Arizona     state             White    Male Owned  Non-Veteran   \n",
       "2    Montana     state          Hispanic  Female Owned  Non-Veteran   \n",
       "3   Nebraska     state          Hispanic    Male Owned  Non-Veteran   \n",
       "4  Louisiana     state             Asian    Male Owned      Veteran   \n",
       "\n",
       "   number_of_loans  loan_amount  quartiles_number_of_loans  \\\n",
       "0                8       376256  Bottom 25% of geographies   \n",
       "1            10472    947717925      26-50% of geographies   \n",
       "2               96      2776646  Bottom 25% of geographies   \n",
       "3              606     23311905      26-50% of geographies   \n",
       "4               13       403325      26-50% of geographies   \n",
       "\n",
       "       quartiles_loan_amount  percentile_number_of_loans  \\\n",
       "0      26-50% of geographies                          22   \n",
       "1      51-75% of geographies                          48   \n",
       "2  Bottom 25% of geographies                          12   \n",
       "3      26-50% of geographies                          40   \n",
       "4      26-50% of geographies                          41   \n",
       "\n",
       "   percentile_loan_amount  pct_black_alone  \n",
       "0                      30              0.6  \n",
       "1                      60              4.5  \n",
       "2                      10              0.6  \n",
       "3                      26              4.8  \n",
       "4                      37             31.9  "
      ]
     },
     "execution_count": 4,
     "metadata": {},
     "output_type": "execute_result"
    }
   ],
   "source": [
    "df.head()"
   ]
  },
  {
   "cell_type": "code",
   "execution_count": 9,
   "metadata": {},
   "outputs": [
    {
     "name": "stdout",
     "output_type": "stream",
     "text": [
      "I have 807 rows and 12 columns in my dataset.\n"
     ]
    }
   ],
   "source": [
    "print(f\"I have {df.shape[0]} rows and {df.shape[1]} columns in my dataset.\")"
   ]
  },
  {
   "cell_type": "code",
   "execution_count": 7,
   "metadata": {},
   "outputs": [
    {
     "data": {
      "text/plain": [
       "Index(['geo_name', 'geo_level', 'race_or_ethnicity', 'gender', 'veteran',\n",
       "       'number_of_loans', 'loan_amount', 'quartiles_number_of_loans',\n",
       "       'quartiles_loan_amount', 'percentile_number_of_loans',\n",
       "       'percentile_loan_amount', 'pct_black_alone'],\n",
       "      dtype='object')"
      ]
     },
     "execution_count": 7,
     "metadata": {},
     "output_type": "execute_result"
    }
   ],
   "source": [
    "# look at columns\n",
    "df.columns"
   ]
  },
  {
   "cell_type": "code",
   "execution_count": 6,
   "metadata": {},
   "outputs": [
    {
     "data": {
      "text/plain": [
       "geo_name                      0\n",
       "geo_level                     0\n",
       "race_or_ethnicity             0\n",
       "gender                        0\n",
       "veteran                       0\n",
       "number_of_loans               0\n",
       "loan_amount                   0\n",
       "quartiles_number_of_loans     0\n",
       "quartiles_loan_amount         0\n",
       "percentile_number_of_loans    0\n",
       "percentile_loan_amount        0\n",
       "pct_black_alone               0\n",
       "dtype: int64"
      ]
     },
     "execution_count": 6,
     "metadata": {},
     "output_type": "execute_result"
    }
   ],
   "source": [
    "# look at null values\n",
    "df.isnull().sum()"
   ]
  },
  {
   "cell_type": "code",
   "execution_count": 7,
   "metadata": {},
   "outputs": [
    {
     "name": "stdout",
     "output_type": "stream",
     "text": [
      "<class 'pandas.core.frame.DataFrame'>\n",
      "RangeIndex: 807 entries, 0 to 806\n",
      "Data columns (total 12 columns):\n",
      " #   Column                      Non-Null Count  Dtype  \n",
      "---  ------                      --------------  -----  \n",
      " 0   geo_name                    807 non-null    object \n",
      " 1   geo_level                   807 non-null    object \n",
      " 2   race_or_ethnicity           807 non-null    object \n",
      " 3   gender                      807 non-null    object \n",
      " 4   veteran                     807 non-null    object \n",
      " 5   number_of_loans             807 non-null    int64  \n",
      " 6   loan_amount                 807 non-null    int64  \n",
      " 7   quartiles_number_of_loans   807 non-null    object \n",
      " 8   quartiles_loan_amount       807 non-null    object \n",
      " 9   percentile_number_of_loans  807 non-null    int64  \n",
      " 10  percentile_loan_amount      807 non-null    int64  \n",
      " 11  pct_black_alone             807 non-null    float64\n",
      "dtypes: float64(1), int64(4), object(7)\n",
      "memory usage: 75.8+ KB\n"
     ]
    }
   ],
   "source": [
    "df.info()"
   ]
  },
  {
   "cell_type": "code",
   "execution_count": 11,
   "metadata": {},
   "outputs": [
    {
     "name": "stdout",
     "output_type": "stream",
     "text": [
      "Montana                 16\n",
      "North Carolina          16\n",
      "Kentucky                16\n",
      "South Carolina          16\n",
      "New Mexico              16\n",
      "Hawaii                  16\n",
      "Colorado                16\n",
      "Florida                 16\n",
      "New Jersey              16\n",
      "Alabama                 16\n",
      "Georgia                 16\n",
      "California              16\n",
      "Washington              16\n",
      "Pennsylvania            16\n",
      "Massachusetts           16\n",
      "New York                16\n",
      "Ohio                    16\n",
      "Oregon                  16\n",
      "Mississippi             16\n",
      "Illinois                16\n",
      "West Virginia           16\n",
      "Indiana                 16\n",
      "Arkansas                16\n",
      "Arizona                 16\n",
      "Tennessee               16\n",
      "Nevada                  16\n",
      "South Dakota            16\n",
      "Nebraska                16\n",
      "Louisiana               16\n",
      "Kansas                  16\n",
      "Connecticut             16\n",
      "Idaho                   16\n",
      "Michigan                16\n",
      "Virginia                16\n",
      "Utah                    16\n",
      "Maryland                16\n",
      "District of Columbia    16\n",
      "Texas                   16\n",
      "Minnesota               16\n",
      "Iowa                    16\n",
      "Missouri                16\n",
      "Maine                   16\n",
      "Wisconsin               16\n",
      "Delaware                16\n",
      "Oklahoma                16\n",
      "Alaska                  16\n",
      "New Hampshire           15\n",
      "Rhode Island            15\n",
      "Wyoming                 15\n",
      "North Dakota            14\n",
      "Vermont                 12\n",
      "Name: geo_name, dtype: int64\n",
      "-------------------\n",
      "state    807\n",
      "Name: geo_level, dtype: int64\n",
      "-------------------\n",
      "White       204\n",
      "Hispanic    203\n",
      "Asian       200\n",
      "Black       200\n",
      "Name: race_or_ethnicity, dtype: int64\n",
      "-------------------\n",
      "Male Owned      405\n",
      "Female Owned    402\n",
      "Name: gender, dtype: int64\n",
      "-------------------\n",
      "Non-Veteran    408\n",
      "Veteran        399\n",
      "Name: veteran, dtype: int64\n",
      "-------------------\n",
      "6       11\n",
      "4        9\n",
      "7        9\n",
      "3        9\n",
      "1        8\n",
      "        ..\n",
      "231      1\n",
      "26       1\n",
      "390      1\n",
      "621      1\n",
      "4026     1\n",
      "Name: number_of_loans, Length: 577, dtype: int64\n",
      "-------------------\n",
      "376256       1\n",
      "348005       1\n",
      "34648804     1\n",
      "14252569     1\n",
      "27420038     1\n",
      "            ..\n",
      "100607745    1\n",
      "32200683     1\n",
      "279988041    1\n",
      "256202882    1\n",
      "75113160     1\n",
      "Name: loan_amount, Length: 807, dtype: int64\n",
      "-------------------\n",
      "Bottom 25% of geographies    208\n",
      "51-75% of geographies        204\n",
      "26-50% of geographies        203\n",
      "Top 25% of geographies       192\n",
      "Name: quartiles_number_of_loans, dtype: int64\n",
      "-------------------\n",
      "51-75% of geographies        206\n",
      "Bottom 25% of geographies    206\n",
      "26-50% of geographies        203\n",
      "Top 25% of geographies       192\n",
      "Name: quartiles_loan_amount, dtype: int64\n",
      "-------------------\n",
      "6     24\n",
      "0     22\n",
      "22    18\n",
      "28    17\n",
      "96    16\n",
      "      ..\n",
      "61     2\n",
      "15     1\n",
      "23     1\n",
      "19     1\n",
      "31     1\n",
      "Name: percentile_number_of_loans, Length: 90, dtype: int64\n",
      "-------------------\n",
      "100    16\n",
      "6      16\n",
      "4      16\n",
      "2      16\n",
      "0      16\n",
      "       ..\n",
      "77      2\n",
      "23      2\n",
      "15      2\n",
      "13      2\n",
      "9       2\n",
      "Name: percentile_loan_amount, Length: 91, dtype: int64\n",
      "-------------------\n",
      "1.9     32\n",
      "15.2    32\n",
      "0.6     16\n",
      "31.5    16\n",
      "8.0     16\n",
      "26.2    16\n",
      "2.1     16\n",
      "4.1     16\n",
      "15.7    16\n",
      "13.3    16\n",
      "26.5    16\n",
      "5.7     16\n",
      "9.3     16\n",
      "3.9     16\n",
      "11.0    16\n",
      "7.3     16\n",
      "12.3    16\n",
      "37.5    16\n",
      "14.1    16\n",
      "3.4     16\n",
      "9.4     16\n",
      "4.5     16\n",
      "21.2    16\n",
      "3.2     16\n",
      "2.2     16\n",
      "4.8     16\n",
      "31.9    16\n",
      "5.6     16\n",
      "10.8    16\n",
      "0.7     16\n",
      "13.6    16\n",
      "19.0    16\n",
      "1.2     16\n",
      "29.8    16\n",
      "7.2     16\n",
      "44.7    16\n",
      "12.1    16\n",
      "6.6     16\n",
      "3.7     16\n",
      "11.3    16\n",
      "1.4     16\n",
      "6.3     16\n",
      "22.0    16\n",
      "16.5    16\n",
      "1.6     15\n",
      "6.4     15\n",
      "0.9     15\n",
      "3.1     14\n",
      "1.3     12\n",
      "Name: pct_black_alone, dtype: int64\n",
      "-------------------\n"
     ]
    }
   ],
   "source": [
    "# look at value counts for each column\n",
    "for col in df.columns:\n",
    "    print(df[col].value_counts())\n",
    "    print('-------------------')"
   ]
  },
  {
   "cell_type": "code",
   "execution_count": 15,
   "metadata": {},
   "outputs": [
    {
     "name": "stdout",
     "output_type": "stream",
     "text": [
      "geo_name 51\n",
      "geo_level 1\n",
      "race_or_ethnicity 4\n",
      "gender 2\n",
      "veteran 2\n",
      "number_of_loans 577\n",
      "loan_amount 807\n",
      "quartiles_number_of_loans 4\n",
      "quartiles_loan_amount 4\n",
      "percentile_number_of_loans 90\n",
      "percentile_loan_amount 91\n",
      "pct_black_alone 49\n"
     ]
    }
   ],
   "source": [
    "# look at the unique values of each column\n",
    "for col in df.columns:\n",
    "    print(col, df[col].nunique())"
   ]
  },
  {
   "cell_type": "code",
   "execution_count": 16,
   "metadata": {},
   "outputs": [
    {
     "data": {
      "text/html": [
       "<div>\n",
       "<style scoped>\n",
       "    .dataframe tbody tr th:only-of-type {\n",
       "        vertical-align: middle;\n",
       "    }\n",
       "\n",
       "    .dataframe tbody tr th {\n",
       "        vertical-align: top;\n",
       "    }\n",
       "\n",
       "    .dataframe thead th {\n",
       "        text-align: right;\n",
       "    }\n",
       "</style>\n",
       "<table border=\"1\" class=\"dataframe\">\n",
       "  <thead>\n",
       "    <tr style=\"text-align: right;\">\n",
       "      <th></th>\n",
       "      <th>number_of_loans</th>\n",
       "      <th>loan_amount</th>\n",
       "      <th>percentile_number_of_loans</th>\n",
       "      <th>percentile_loan_amount</th>\n",
       "      <th>pct_black_alone</th>\n",
       "    </tr>\n",
       "  </thead>\n",
       "  <tbody>\n",
       "    <tr>\n",
       "      <th>count</th>\n",
       "      <td>807.000000</td>\n",
       "      <td>8.070000e+02</td>\n",
       "      <td>807.000000</td>\n",
       "      <td>807.000000</td>\n",
       "      <td>807.000000</td>\n",
       "    </tr>\n",
       "    <tr>\n",
       "      <th>mean</th>\n",
       "      <td>3014.047088</td>\n",
       "      <td>1.625656e+08</td>\n",
       "      <td>49.784387</td>\n",
       "      <td>50.000000</td>\n",
       "      <td>11.270012</td>\n",
       "    </tr>\n",
       "    <tr>\n",
       "      <th>std</th>\n",
       "      <td>7259.171822</td>\n",
       "      <td>5.263416e+08</td>\n",
       "      <td>29.641708</td>\n",
       "      <td>29.477333</td>\n",
       "      <td>10.408518</td>\n",
       "    </tr>\n",
       "    <tr>\n",
       "      <th>min</th>\n",
       "      <td>1.000000</td>\n",
       "      <td>3.010000e+02</td>\n",
       "      <td>0.000000</td>\n",
       "      <td>0.000000</td>\n",
       "      <td>0.600000</td>\n",
       "    </tr>\n",
       "    <tr>\n",
       "      <th>25%</th>\n",
       "      <td>53.500000</td>\n",
       "      <td>1.992810e+06</td>\n",
       "      <td>24.000000</td>\n",
       "      <td>24.000000</td>\n",
       "      <td>3.400000</td>\n",
       "    </tr>\n",
       "    <tr>\n",
       "      <th>50%</th>\n",
       "      <td>339.000000</td>\n",
       "      <td>1.562447e+07</td>\n",
       "      <td>50.000000</td>\n",
       "      <td>50.000000</td>\n",
       "      <td>7.300000</td>\n",
       "    </tr>\n",
       "    <tr>\n",
       "      <th>75%</th>\n",
       "      <td>1949.500000</td>\n",
       "      <td>9.952855e+07</td>\n",
       "      <td>76.000000</td>\n",
       "      <td>76.000000</td>\n",
       "      <td>15.200000</td>\n",
       "    </tr>\n",
       "    <tr>\n",
       "      <th>max</th>\n",
       "      <td>73256.000000</td>\n",
       "      <td>8.835301e+09</td>\n",
       "      <td>100.000000</td>\n",
       "      <td>100.000000</td>\n",
       "      <td>44.700000</td>\n",
       "    </tr>\n",
       "  </tbody>\n",
       "</table>\n",
       "</div>"
      ],
      "text/plain": [
       "       number_of_loans   loan_amount  percentile_number_of_loans  \\\n",
       "count       807.000000  8.070000e+02                  807.000000   \n",
       "mean       3014.047088  1.625656e+08                   49.784387   \n",
       "std        7259.171822  5.263416e+08                   29.641708   \n",
       "min           1.000000  3.010000e+02                    0.000000   \n",
       "25%          53.500000  1.992810e+06                   24.000000   \n",
       "50%         339.000000  1.562447e+07                   50.000000   \n",
       "75%        1949.500000  9.952855e+07                   76.000000   \n",
       "max       73256.000000  8.835301e+09                  100.000000   \n",
       "\n",
       "       percentile_loan_amount  pct_black_alone  \n",
       "count              807.000000       807.000000  \n",
       "mean                50.000000        11.270012  \n",
       "std                 29.477333        10.408518  \n",
       "min                  0.000000         0.600000  \n",
       "25%                 24.000000         3.400000  \n",
       "50%                 50.000000         7.300000  \n",
       "75%                 76.000000        15.200000  \n",
       "max                100.000000        44.700000  "
      ]
     },
     "execution_count": 16,
     "metadata": {},
     "output_type": "execute_result"
    }
   ],
   "source": [
    "df.describe()"
   ]
  },
  {
   "cell_type": "markdown",
   "metadata": {},
   "source": [
    "## Look at loan amount as our dependant variable"
   ]
  },
  {
   "cell_type": "code",
   "execution_count": 130,
   "metadata": {},
   "outputs": [],
   "source": [
    "# Log transform the loan_amount column\n",
    "df['log_loan_amount'] = df['loan_amount'].apply(lambda x: np.log10(x))"
   ]
  },
  {
   "cell_type": "code",
   "execution_count": 131,
   "metadata": {},
   "outputs": [
    {
     "data": {
      "image/png": "[encoded data removed]",
      "text/plain": [
       "<Figure size 1200x600 with 1 Axes>"
      ]
     },
     "metadata": {},
     "output_type": "display_data"
    }
   ],
   "source": [
    "# Setting up the figure\n",
    "plt.figure(figsize=(12, 6))\n",
    "\n",
    "# Create the KDE plot\n",
    "sns.kdeplot(data=df, x='log_loan_amount', hue='race_or_ethnicity', \n",
    "            palette='viridis',  # Color palette\n",
    "            fill=True,  # Fill the area under the curve\n",
    "            alpha=0.5)  # transparency\n",
    "\n",
    "# Set labels and title\n",
    "plt.xlabel('Log Loan Amount')\n",
    "plt.title('Kernel Density Estimation of Log Loan Amount by Race or Ethnicity')\n",
    "\n",
    "# Show the plot\n",
    "plt.show()"
   ]
  },
  {
   "cell_type": "code",
   "execution_count": 61,
   "metadata": {},
   "outputs": [
    {
     "data": {
      "image/png": "[encoded data removed]",
      "text/plain": [
       "<Figure size 1200x600 with 1 Axes>"
      ]
     },
     "metadata": {},
     "output_type": "display_data"
    }
   ],
   "source": [
    "by_ethnicity = df.groupby(by='race_or_ethnicity').aggregate({'loan_amount': ['sum']}).reset_index()\n",
    "\n",
    "plt.figure(figsize=(12, 6))\n",
    "sns.barplot(data=by_ethnicity,x='race_or_ethnicity',y=('loan_amount','sum'),palette='viridis')\n",
    "\n",
    "plt.xlabel('Race or Ethnicity of Ownership')\n",
    "plt.ylabel('Loan Amount')\n",
    "\n",
    "plt.show()"
   ]
  },
  {
   "cell_type": "code",
   "execution_count": 63,
   "metadata": {},
   "outputs": [],
   "source": [
    "# Assumption from EDA and research question: Businesses with white ownership are more likely to get a loan than businesses with other ethnic ownerships."
   ]
  },
  {
   "cell_type": "markdown",
   "metadata": {},
   "source": [
    "## Look at controlling variables"
   ]
  },
  {
   "cell_type": "code",
   "execution_count": 85,
   "metadata": {},
   "outputs": [
    {
     "data": {
      "image/png": "[encoded data removed]",
      "text/plain": [
       "<Figure size 1200x600 with 1 Axes>"
      ]
     },
     "metadata": {},
     "output_type": "display_data"
    }
   ],
   "source": [
    "# Setting up the figure\n",
    "plt.figure(figsize=(12, 6))\n",
    "\n",
    "# Create the KDE plot\n",
    "sns.kdeplot(data=df, x='log_loan_amount', hue='gender',\n",
    "            palette='viridis',  # Color palette\n",
    "            fill=True,  # Fill the area under the curve\n",
    "            alpha=0.5)  # transparency\n",
    "\n",
    "# Set labels and title\n",
    "plt.xlabel('Log Loan Amount')\n",
    "plt.title('Kernel Density Estimation of Log Loan Amount by Race or Ethnicity')\n",
    "\n",
    "# Show the plot\n",
    "plt.show()"
   ]
  },
  {
   "cell_type": "code",
   "execution_count": 71,
   "metadata": {},
   "outputs": [
    {
     "data": {
      "image/png": "[encoded data removed]",
      "text/plain": [
       "<Figure size 1200x600 with 1 Axes>"
      ]
     },
     "metadata": {},
     "output_type": "display_data"
    }
   ],
   "source": [
    "by_gender = df.groupby(by='gender').aggregate({'loan_amount': ['sum']}).reset_index()\n",
    "\n",
    "plt.figure(figsize=(12, 6))\n",
    "sns.barplot(data=by_gender, x='gender', y=('loan_amount', 'sum'), palette='viridis')\n",
    "\n",
    "plt.xlabel('Gender of Ownership')\n",
    "plt.ylabel('Loan Amount')\n",
    "\n",
    "plt.show()"
   ]
  },
  {
   "cell_type": "code",
   "execution_count": 74,
   "metadata": {},
   "outputs": [
    {
     "data": {
      "image/png": "[encoded data removed]",
      "text/plain": [
       "<Figure size 1200x600 with 1 Axes>"
      ]
     },
     "metadata": {},
     "output_type": "display_data"
    }
   ],
   "source": [
    "by_veteranship = df.groupby(by='veteran').aggregate({'loan_amount': ['sum']}).reset_index()\n",
    "\n",
    "plt.figure(figsize=(12, 6))\n",
    "sns.barplot(data=by_veteranship, x='veteran', y=('loan_amount', 'sum'), palette='viridis')\n",
    "\n",
    "plt.xlabel('Veteranship of Ownership')\n",
    "plt.ylabel('Loan Amount')\n",
    "\n",
    "plt.show()"
   ]
  },
  {
   "cell_type": "code",
   "execution_count": null,
   "metadata": {},
   "outputs": [],
   "source": []
  },
  {
   "cell_type": "code",
   "execution_count": 107,
   "metadata": {},
   "outputs": [
    {
     "data": {
      "image/png": "[encoded data removed]",
      "text/plain": [
       "<Figure size 1200x1000 with 1 Axes>"
      ]
     },
     "metadata": {},
     "output_type": "display_data"
    }
   ],
   "source": [
    "by_state = df.groupby(by='geo_name').aggregate({'loan_amount': ['sum']}).reset_index()\n",
    "\n",
    "plt.figure(figsize=(12, 10))\n",
    "\n",
    "# Create the barplot\n",
    "sns.barplot(data=by_state, y='geo_name', x=('loan_amount', 'sum'), \n",
    "            orient='h',\n",
    "            palette='viridis')\n",
    "\n",
    "plt.xlabel('Loan Amount (log scale)')\n",
    "plt.ylabel('State')\n",
    "plt.title('Total Loan Amount by State')\n",
    "\n",
    "plt.show()\n"
   ]
  },
  {
   "cell_type": "code",
   "execution_count": 148,
   "metadata": {},
   "outputs": [
    {
     "data": {
      "application/vnd.plotly.v1+json": {
       "config": {
        "plotlyServerURL": "https://plot.ly"
       },
       "data": [
        {
         "alignmentgroup": "True",
         "hovertemplate": "sum=%{marker.color}<br>State=%{y}<extra></extra>",
         "legendgroup": "",
         "marker": {
          "color": [
           113.30010714148469,
           104.11680750916874,
           120.04507763274141,
           109.31079353469521,
           136.74156611699652,
           119.61281791599204,
           113.77690606448627,
           105.52791658275825,
           108.37062138335844,
           129.78163684035826,
           124.90487592867804,
           111.87463078802035,
           100.62786329299185,
           125.85058638175502,
           117.70743831617122,
           107.26344774328469,
           109.31692967768294,
           108.44328843541724,
           117.19368829364959,
           99.06480819954149,
           120.73486217589239,
           119.50755478551795,
           120.31389455041264,
           116.08293255140816,
           110.38735214123986,
           115.66035708991751,
           100.11790018521093,
           107.11621519183943,
           118.16722235876134,
           97.59557171998638,
           121.35485702994785,
           109.8668292340095,
           126.7497459278813,
           119.82601847590611,
           88.62508818415512,
           122.81751133813485,
           112.14754103436039,
           114.34511295152355,
           120.50823016890061,
           98.44034873748991,
           114.53324801875418,
           95.4130456377279,
           115.99514329501257,
           132.22410244612476,
           106.0394820536945,
           74.41307643432891,
           123.02616008256213,
           121.41925249000803,
           100.78060563788405,
           113.97482671573245,
           94.45351161923247
          ],
          "coloraxis": "coloraxis",
          "pattern": {
           "shape": ""
          }
         },
         "name": "",
         "offsetgroup": "",
         "orientation": "h",
         "showlegend": false,
         "textposition": "auto",
         "type": "bar",
         "x": [
          113.30010714148469,
          104.11680750916874,
          120.04507763274141,
          109.31079353469521,
          136.74156611699652,
          119.61281791599204,
          113.77690606448627,
          105.52791658275825,
          108.37062138335844,
          129.78163684035826,
          124.90487592867804,
          111.87463078802035,
          100.62786329299185,
          125.85058638175502,
          117.70743831617122,
          107.26344774328469,
          109.31692967768294,
          108.44328843541724,
          117.19368829364959,
          99.06480819954149,
          120.73486217589239,
          119.50755478551795,
          120.31389455041264,
          116.08293255140816,
          110.38735214123986,
          115.66035708991751,
          100.11790018521093,
          107.11621519183943,
          118.16722235876134,
          97.59557171998638,
          121.35485702994785,
          109.8668292340095,
          126.7497459278813,
          119.82601847590611,
          88.62508818415512,
          122.81751133813485,
          112.14754103436039,
          114.34511295152355,
          120.50823016890061,
          98.44034873748991,
          114.53324801875418,
          95.4130456377279,
          115.99514329501257,
          132.22410244612476,
          106.0394820536945,
          74.41307643432891,
          123.02616008256213,
          121.41925249000803,
          100.78060563788405,
          113.97482671573245,
          94.45351161923247
         ],
         "xaxis": "x",
         "y": [
          "Alabama",
          "Alaska",
          "Arizona",
          "Arkansas",
          "California",
          "Colorado",
          "Connecticut",
          "Delaware",
          "District of Columbia",
          "Florida",
          "Georgia",
          "Hawaii",
          "Idaho",
          "Illinois",
          "Indiana",
          "Iowa",
          "Kansas",
          "Kentucky",
          "Louisiana",
          "Maine",
          "Maryland",
          "Massachusetts",
          "Michigan",
          "Minnesota",
          "Mississippi",
          "Missouri",
          "Montana",
          "Nebraska",
          "Nevada",
          "New Hampshire",
          "New Jersey",
          "New Mexico",
          "New York",
          "North Carolina",
          "North Dakota",
          "Ohio",
          "Oklahoma",
          "Oregon",
          "Pennsylvania",
          "Rhode Island",
          "South Carolina",
          "South Dakota",
          "Tennessee",
          "Texas",
          "Utah",
          "Vermont",
          "Virginia",
          "Washington",
          "West Virginia",
          "Wisconsin",
          "Wyoming"
         ],
         "yaxis": "y"
        }
       ],
       "layout": {
        "barmode": "relative",
        "coloraxis": {
         "colorbar": {
          "title": {
           "text": "sum"
          }
         },
         "colorscale": [
          [
           0,
           "#440154"
          ],
          [
           0.1111111111111111,
           "#482878"
          ],
          [
           0.2222222222222222,
           "#3e4989"
          ],
          [
           0.3333333333333333,
           "#31688e"
          ],
          [
           0.4444444444444444,
           "#26828e"
          ],
          [
           0.5555555555555556,
           "#1f9e89"
          ],
          [
           0.6666666666666666,
           "#35b779"
          ],
          [
           0.7777777777777778,
           "#6ece58"
          ],
          [
           0.8888888888888888,
           "#b5de2b"
          ],
          [
           1,
           "#fde725"
          ]
         ]
        },
        "height": 1200,
        "legend": {
         "tracegroupgap": 0
        },
        "template": {
         "data": {
          "bar": [
           {
            "error_x": {
             "color": "rgb(36,36,36)"
            },
            "error_y": {
             "color": "rgb(36,36,36)"
            },
            "marker": {
             "line": {
              "color": "white",
              "width": 0.5
             },
             "pattern": {
              "fillmode": "overlay",
              "size": 10,
              "solidity": 0.2
             }
            },
            "type": "bar"
           }
          ],
          "barpolar": [
           {
            "marker": {
             "line": {
              "color": "white",
              "width": 0.5
             },
             "pattern": {
              "fillmode": "overlay",
              "size": 10,
              "solidity": 0.2
             }
            },
            "type": "barpolar"
           }
          ],
          "carpet": [
           {
            "aaxis": {
             "endlinecolor": "rgb(36,36,36)",
             "gridcolor": "white",
             "linecolor": "white",
             "minorgridcolor": "white",
             "startlinecolor": "rgb(36,36,36)"
            },
            "baxis": {
             "endlinecolor": "rgb(36,36,36)",
             "gridcolor": "white",
             "linecolor": "white",
             "minorgridcolor": "white",
             "startlinecolor": "rgb(36,36,36)"
            },
            "type": "carpet"
           }
          ],
          "choropleth": [
           {
            "colorbar": {
             "outlinewidth": 1,
             "tickcolor": "rgb(36,36,36)",
             "ticks": "outside"
            },
            "type": "choropleth"
           }
          ],
          "contour": [
           {
            "colorbar": {
             "outlinewidth": 1,
             "tickcolor": "rgb(36,36,36)",
             "ticks": "outside"
            },
            "colorscale": [
             [
              0,
              "#440154"
             ],
             [
              0.1111111111111111,
              "#482878"
             ],
             [
              0.2222222222222222,
              "#3e4989"
             ],
             [
              0.3333333333333333,
              "#31688e"
             ],
             [
              0.4444444444444444,
              "#26828e"
             ],
             [
              0.5555555555555556,
              "#1f9e89"
             ],
             [
              0.6666666666666666,
              "#35b779"
             ],
             [
              0.7777777777777778,
              "#6ece58"
             ],
             [
              0.8888888888888888,
              "#b5de2b"
             ],
             [
              1,
              "#fde725"
             ]
            ],
            "type": "contour"
           }
          ],
          "contourcarpet": [
           {
            "colorbar": {
             "outlinewidth": 1,
             "tickcolor": "rgb(36,36,36)",
             "ticks": "outside"
            },
            "type": "contourcarpet"
           }
          ],
          "heatmap": [
           {
            "colorbar": {
             "outlinewidth": 1,
             "tickcolor": "rgb(36,36,36)",
             "ticks": "outside"
            },
            "colorscale": [
             [
              0,
              "#440154"
             ],
             [
              0.1111111111111111,
              "#482878"
             ],
             [
              0.2222222222222222,
              "#3e4989"
             ],
             [
              0.3333333333333333,
              "#31688e"
             ],
             [
              0.4444444444444444,
              "#26828e"
             ],
             [
              0.5555555555555556,
              "#1f9e89"
             ],
             [
              0.6666666666666666,
              "#35b779"
             ],
             [
              0.7777777777777778,
              "#6ece58"
             ],
             [
              0.8888888888888888,
              "#b5de2b"
             ],
             [
              1,
              "#fde725"
             ]
            ],
            "type": "heatmap"
           }
          ],
          "heatmapgl": [
           {
            "colorbar": {
             "outlinewidth": 1,
             "tickcolor": "rgb(36,36,36)",
             "ticks": "outside"
            },
            "colorscale": [
             [
              0,
              "#440154"
             ],
             [
              0.1111111111111111,
              "#482878"
             ],
             [
              0.2222222222222222,
              "#3e4989"
             ],
             [
              0.3333333333333333,
              "#31688e"
             ],
             [
              0.4444444444444444,
              "#26828e"
             ],
             [
              0.5555555555555556,
              "#1f9e89"
             ],
             [
              0.6666666666666666,
              "#35b779"
             ],
             [
              0.7777777777777778,
              "#6ece58"
             ],
             [
              0.8888888888888888,
              "#b5de2b"
             ],
             [
              1,
              "#fde725"
             ]
            ],
            "type": "heatmapgl"
           }
          ],
          "histogram": [
           {
            "marker": {
             "line": {
              "color": "white",
              "width": 0.6
             }
            },
            "type": "histogram"
           }
          ],
          "histogram2d": [
           {
            "colorbar": {
             "outlinewidth": 1,
             "tickcolor": "rgb(36,36,36)",
             "ticks": "outside"
            },
            "colorscale": [
             [
              0,
              "#440154"
             ],
             [
              0.1111111111111111,
              "#482878"
             ],
             [
              0.2222222222222222,
              "#3e4989"
             ],
             [
              0.3333333333333333,
              "#31688e"
             ],
             [
              0.4444444444444444,
              "#26828e"
             ],
             [
              0.5555555555555556,
              "#1f9e89"
             ],
             [
              0.6666666666666666,
              "#35b779"
             ],
             [
              0.7777777777777778,
              "#6ece58"
             ],
             [
              0.8888888888888888,
              "#b5de2b"
             ],
             [
              1,
              "#fde725"
             ]
            ],
            "type": "histogram2d"
           }
          ],
          "histogram2dcontour": [
           {
            "colorbar": {
             "outlinewidth": 1,
             "tickcolor": "rgb(36,36,36)",
             "ticks": "outside"
            },
            "colorscale": [
             [
              0,
              "#440154"
             ],
             [
              0.1111111111111111,
              "#482878"
             ],
             [
              0.2222222222222222,
              "#3e4989"
             ],
             [
              0.3333333333333333,
              "#31688e"
             ],
             [
              0.4444444444444444,
              "#26828e"
             ],
             [
              0.5555555555555556,
              "#1f9e89"
             ],
             [
              0.6666666666666666,
              "#35b779"
             ],
             [
              0.7777777777777778,
              "#6ece58"
             ],
             [
              0.8888888888888888,
              "#b5de2b"
             ],
             [
              1,
              "#fde725"
             ]
            ],
            "type": "histogram2dcontour"
           }
          ],
          "mesh3d": [
           {
            "colorbar": {
             "outlinewidth": 1,
             "tickcolor": "rgb(36,36,36)",
             "ticks": "outside"
            },
            "type": "mesh3d"
           }
          ],
          "parcoords": [
           {
            "line": {
             "colorbar": {
              "outlinewidth": 1,
              "tickcolor": "rgb(36,36,36)",
              "ticks": "outside"
             }
            },
            "type": "parcoords"
           }
          ],
          "pie": [
           {
            "automargin": true,
            "type": "pie"
           }
          ],
          "scatter": [
           {
            "fillpattern": {
             "fillmode": "overlay",
             "size": 10,
             "solidity": 0.2
            },
            "type": "scatter"
           }
          ],
          "scatter3d": [
           {
            "line": {
             "colorbar": {
              "outlinewidth": 1,
              "tickcolor": "rgb(36,36,36)",
              "ticks": "outside"
             }
            },
            "marker": {
             "colorbar": {
              "outlinewidth": 1,
              "tickcolor": "rgb(36,36,36)",
              "ticks": "outside"
             }
            },
            "type": "scatter3d"
           }
          ],
          "scattercarpet": [
           {
            "marker": {
             "colorbar": {
              "outlinewidth": 1,
              "tickcolor": "rgb(36,36,36)",
              "ticks": "outside"
             }
            },
            "type": "scattercarpet"
           }
          ],
          "scattergeo": [
           {
            "marker": {
             "colorbar": {
              "outlinewidth": 1,
              "tickcolor": "rgb(36,36,36)",
              "ticks": "outside"
             }
            },
            "type": "scattergeo"
           }
          ],
          "scattergl": [
           {
            "marker": {
             "colorbar": {
              "outlinewidth": 1,
              "tickcolor": "rgb(36,36,36)",
              "ticks": "outside"
             }
            },
            "type": "scattergl"
           }
          ],
          "scattermapbox": [
           {
            "marker": {
             "colorbar": {
              "outlinewidth": 1,
              "tickcolor": "rgb(36,36,36)",
              "ticks": "outside"
             }
            },
            "type": "scattermapbox"
           }
          ],
          "scatterpolar": [
           {
            "marker": {
             "colorbar": {
              "outlinewidth": 1,
              "tickcolor": "rgb(36,36,36)",
              "ticks": "outside"
             }
            },
            "type": "scatterpolar"
           }
          ],
          "scatterpolargl": [
           {
            "marker": {
             "colorbar": {
              "outlinewidth": 1,
              "tickcolor": "rgb(36,36,36)",
              "ticks": "outside"
             }
            },
            "type": "scatterpolargl"
           }
          ],
          "scatterternary": [
           {
            "marker": {
             "colorbar": {
              "outlinewidth": 1,
              "tickcolor": "rgb(36,36,36)",
              "ticks": "outside"
             }
            },
            "type": "scatterternary"
           }
          ],
          "surface": [
           {
            "colorbar": {
             "outlinewidth": 1,
             "tickcolor": "rgb(36,36,36)",
             "ticks": "outside"
            },
            "colorscale": [
             [
              0,
              "#440154"
             ],
             [
              0.1111111111111111,
              "#482878"
             ],
             [
              0.2222222222222222,
              "#3e4989"
             ],
             [
              0.3333333333333333,
              "#31688e"
             ],
             [
              0.4444444444444444,
              "#26828e"
             ],
             [
              0.5555555555555556,
              "#1f9e89"
             ],
             [
              0.6666666666666666,
              "#35b779"
             ],
             [
              0.7777777777777778,
              "#6ece58"
             ],
             [
              0.8888888888888888,
              "#b5de2b"
             ],
             [
              1,
              "#fde725"
             ]
            ],
            "type": "surface"
           }
          ],
          "table": [
           {
            "cells": {
             "fill": {
              "color": "rgb(237,237,237)"
             },
             "line": {
              "color": "white"
             }
            },
            "header": {
             "fill": {
              "color": "rgb(217,217,217)"
             },
             "line": {
              "color": "white"
             }
            },
            "type": "table"
           }
          ]
         },
         "layout": {
          "annotationdefaults": {
           "arrowhead": 0,
           "arrowwidth": 1
          },
          "autotypenumbers": "strict",
          "coloraxis": {
           "colorbar": {
            "outlinewidth": 1,
            "tickcolor": "rgb(36,36,36)",
            "ticks": "outside"
           }
          },
          "colorscale": {
           "diverging": [
            [
             0,
             "rgb(103,0,31)"
            ],
            [
             0.1,
             "rgb(178,24,43)"
            ],
            [
             0.2,
             "rgb(214,96,77)"
            ],
            [
             0.3,
             "rgb(244,165,130)"
            ],
            [
             0.4,
             "rgb(253,219,199)"
            ],
            [
             0.5,
             "rgb(247,247,247)"
            ],
            [
             0.6,
             "rgb(209,229,240)"
            ],
            [
             0.7,
             "rgb(146,197,222)"
            ],
            [
             0.8,
             "rgb(67,147,195)"
            ],
            [
             0.9,
             "rgb(33,102,172)"
            ],
            [
             1,
             "rgb(5,48,97)"
            ]
           ],
           "sequential": [
            [
             0,
             "#440154"
            ],
            [
             0.1111111111111111,
             "#482878"
            ],
            [
             0.2222222222222222,
             "#3e4989"
            ],
            [
             0.3333333333333333,
             "#31688e"
            ],
            [
             0.4444444444444444,
             "#26828e"
            ],
            [
             0.5555555555555556,
             "#1f9e89"
            ],
            [
             0.6666666666666666,
             "#35b779"
            ],
            [
             0.7777777777777778,
             "#6ece58"
            ],
            [
             0.8888888888888888,
             "#b5de2b"
            ],
            [
             1,
             "#fde725"
            ]
           ],
           "sequentialminus": [
            [
             0,
             "#440154"
            ],
            [
             0.1111111111111111,
             "#482878"
            ],
            [
             0.2222222222222222,
             "#3e4989"
            ],
            [
             0.3333333333333333,
             "#31688e"
            ],
            [
             0.4444444444444444,
             "#26828e"
            ],
            [
             0.5555555555555556,
             "#1f9e89"
            ],
            [
             0.6666666666666666,
             "#35b779"
            ],
            [
             0.7777777777777778,
             "#6ece58"
            ],
            [
             0.8888888888888888,
             "#b5de2b"
            ],
            [
             1,
             "#fde725"
            ]
           ]
          },
          "colorway": [
           "#1F77B4",
           "#FF7F0E",
           "#2CA02C",
           "#D62728",
           "#9467BD",
           "#8C564B",
           "#E377C2",
           "#7F7F7F",
           "#BCBD22",
           "#17BECF"
          ],
          "font": {
           "color": "rgb(36,36,36)"
          },
          "geo": {
           "bgcolor": "white",
           "lakecolor": "white",
           "landcolor": "white",
           "showlakes": true,
           "showland": true,
           "subunitcolor": "white"
          },
          "hoverlabel": {
           "align": "left"
          },
          "hovermode": "closest",
          "mapbox": {
           "style": "light"
          },
          "paper_bgcolor": "white",
          "plot_bgcolor": "white",
          "polar": {
           "angularaxis": {
            "gridcolor": "rgb(232,232,232)",
            "linecolor": "rgb(36,36,36)",
            "showgrid": false,
            "showline": true,
            "ticks": "outside"
           },
           "bgcolor": "white",
           "radialaxis": {
            "gridcolor": "rgb(232,232,232)",
            "linecolor": "rgb(36,36,36)",
            "showgrid": false,
            "showline": true,
            "ticks": "outside"
           }
          },
          "scene": {
           "xaxis": {
            "backgroundcolor": "white",
            "gridcolor": "rgb(232,232,232)",
            "gridwidth": 2,
            "linecolor": "rgb(36,36,36)",
            "showbackground": true,
            "showgrid": false,
            "showline": true,
            "ticks": "outside",
            "zeroline": false,
            "zerolinecolor": "rgb(36,36,36)"
           },
           "yaxis": {
            "backgroundcolor": "white",
            "gridcolor": "rgb(232,232,232)",
            "gridwidth": 2,
            "linecolor": "rgb(36,36,36)",
            "showbackground": true,
            "showgrid": false,
            "showline": true,
            "ticks": "outside",
            "zeroline": false,
            "zerolinecolor": "rgb(36,36,36)"
           },
           "zaxis": {
            "backgroundcolor": "white",
            "gridcolor": "rgb(232,232,232)",
            "gridwidth": 2,
            "linecolor": "rgb(36,36,36)",
            "showbackground": true,
            "showgrid": false,
            "showline": true,
            "ticks": "outside",
            "zeroline": false,
            "zerolinecolor": "rgb(36,36,36)"
           }
          },
          "shapedefaults": {
           "fillcolor": "black",
           "line": {
            "width": 0
           },
           "opacity": 0.3
          },
          "ternary": {
           "aaxis": {
            "gridcolor": "rgb(232,232,232)",
            "linecolor": "rgb(36,36,36)",
            "showgrid": false,
            "showline": true,
            "ticks": "outside"
           },
           "baxis": {
            "gridcolor": "rgb(232,232,232)",
            "linecolor": "rgb(36,36,36)",
            "showgrid": false,
            "showline": true,
            "ticks": "outside"
           },
           "bgcolor": "white",
           "caxis": {
            "gridcolor": "rgb(232,232,232)",
            "linecolor": "rgb(36,36,36)",
            "showgrid": false,
            "showline": true,
            "ticks": "outside"
           }
          },
          "title": {
           "x": 0.05
          },
          "xaxis": {
           "automargin": true,
           "gridcolor": "rgb(232,232,232)",
           "linecolor": "rgb(36,36,36)",
           "showgrid": false,
           "showline": true,
           "ticks": "outside",
           "title": {
            "standoff": 15
           },
           "zeroline": false,
           "zerolinecolor": "rgb(36,36,36)"
          },
          "yaxis": {
           "automargin": true,
           "gridcolor": "rgb(232,232,232)",
           "linecolor": "rgb(36,36,36)",
           "showgrid": false,
           "showline": true,
           "ticks": "outside",
           "title": {
            "standoff": 15
           },
           "zeroline": false,
           "zerolinecolor": "rgb(36,36,36)"
          }
         }
        },
        "title": {
         "text": "Total Log Loan Amount by State"
        },
        "width": 1000,
        "xaxis": {
         "anchor": "y",
         "domain": [
          0,
          1
         ],
         "title": {
          "text": "sum"
         }
        },
        "yaxis": {
         "anchor": "x",
         "domain": [
          0,
          1
         ],
         "title": {
          "text": "State"
         }
        }
       }
      }
     },
     "metadata": {},
     "output_type": "display_data"
    }
   ],
   "source": [
    "by_state = df.groupby(by='geo_name').aggregate({'log_loan_amount': ['sum']}).droplevel(0, axis=1).reset_index()\n",
    "\n",
    "# Create the barplot with continuous color scaling using Plotly Express\n",
    "fig = px.bar(by_state, \n",
    "             x='sum',\n",
    "             y='geo_name', \n",
    "             orientation='h',\n",
    "             color='sum',  # Use log_loan_amount for continuous color scaling\n",
    "             color_continuous_scale='viridis',  # Use 'viridis' color scale\n",
    "             labels={'geo_name': 'State', 'loan_amount': 'Loan Amount (log scale)'},\n",
    "             title='Total Log Loan Amount by State',\n",
    "             template ='simple_white')\n",
    "\n",
    "fig.update_layout(height=1200, width=1000)\n",
    "\n",
    "fig.show()"
   ]
  },
  {
   "cell_type": "code",
   "execution_count": 153,
   "metadata": {},
   "outputs": [
    {
     "data": {
      "application/vnd.plotly.v1+json": {
       "config": {
        "plotlyServerURL": "https://plot.ly"
       },
       "data": [
        {
         "alignmentgroup": "True",
         "hovertemplate": "pct_black_alone=%{marker.color}<br>State=%{y}<extra></extra>",
         "legendgroup": "",
         "marker": {
          "color": [
           26.5,
           3.2,
           4.5,
           15.2,
           5.7,
           4.1,
           10.8,
           22,
           44.7,
           15.7,
           31.5,
           1.9,
           0.7,
           14.1,
           9.4,
           3.7,
           5.6,
           8,
           31.9,
           1.4,
           29.8,
           7.3,
           13.6,
           6.6,
           37.5,
           11.3,
           0.6,
           4.8,
           9.3,
           1.6,
           13.3,
           2.1,
           15.2,
           21.2,
           3.1,
           12.3,
           7.2,
           1.9,
           11,
           6.4,
           26.2,
           2.2,
           16.5,
           12.1,
           1.2,
           1.3,
           19,
           3.9,
           3.4,
           6.3,
           0.9
          ],
          "coloraxis": "coloraxis",
          "pattern": {
           "shape": ""
          }
         },
         "name": "",
         "offsetgroup": "",
         "orientation": "h",
         "showlegend": false,
         "textposition": "auto",
         "type": "bar",
         "x": [
          26.5,
          3.2,
          4.5,
          15.2,
          5.7,
          4.1,
          10.8,
          22,
          44.7,
          15.7,
          31.5,
          1.9,
          0.7,
          14.1,
          9.4,
          3.7,
          5.6,
          8,
          31.9,
          1.4,
          29.8,
          7.3,
          13.6,
          6.6,
          37.5,
          11.3,
          0.6,
          4.8,
          9.3,
          1.6,
          13.3,
          2.1,
          15.2,
          21.2,
          3.1,
          12.3,
          7.2,
          1.9,
          11,
          6.4,
          26.2,
          2.2,
          16.5,
          12.1,
          1.2,
          1.3,
          19,
          3.9,
          3.4,
          6.3,
          0.9
         ],
         "xaxis": "x",
         "y": [
          "Alabama",
          "Alaska",
          "Arizona",
          "Arkansas",
          "California",
          "Colorado",
          "Connecticut",
          "Delaware",
          "District of Columbia",
          "Florida",
          "Georgia",
          "Hawaii",
          "Idaho",
          "Illinois",
          "Indiana",
          "Iowa",
          "Kansas",
          "Kentucky",
          "Louisiana",
          "Maine",
          "Maryland",
          "Massachusetts",
          "Michigan",
          "Minnesota",
          "Mississippi",
          "Missouri",
          "Montana",
          "Nebraska",
          "Nevada",
          "New Hampshire",
          "New Jersey",
          "New Mexico",
          "New York",
          "North Carolina",
          "North Dakota",
          "Ohio",
          "Oklahoma",
          "Oregon",
          "Pennsylvania",
          "Rhode Island",
          "South Carolina",
          "South Dakota",
          "Tennessee",
          "Texas",
          "Utah",
          "Vermont",
          "Virginia",
          "Washington",
          "West Virginia",
          "Wisconsin",
          "Wyoming"
         ],
         "yaxis": "y"
        }
       ],
       "layout": {
        "barmode": "relative",
        "coloraxis": {
         "colorbar": {
          "title": {
           "text": "pct_black_alone"
          }
         },
         "colorscale": [
          [
           0,
           "#440154"
          ],
          [
           0.1111111111111111,
           "#482878"
          ],
          [
           0.2222222222222222,
           "#3e4989"
          ],
          [
           0.3333333333333333,
           "#31688e"
          ],
          [
           0.4444444444444444,
           "#26828e"
          ],
          [
           0.5555555555555556,
           "#1f9e89"
          ],
          [
           0.6666666666666666,
           "#35b779"
          ],
          [
           0.7777777777777778,
           "#6ece58"
          ],
          [
           0.8888888888888888,
           "#b5de2b"
          ],
          [
           1,
           "#fde725"
          ]
         ]
        },
        "height": 1200,
        "legend": {
         "tracegroupgap": 0
        },
        "template": {
         "data": {
          "bar": [
           {
            "error_x": {
             "color": "rgb(36,36,36)"
            },
            "error_y": {
             "color": "rgb(36,36,36)"
            },
            "marker": {
             "line": {
              "color": "white",
              "width": 0.5
             },
             "pattern": {
              "fillmode": "overlay",
              "size": 10,
              "solidity": 0.2
             }
            },
            "type": "bar"
           }
          ],
          "barpolar": [
           {
            "marker": {
             "line": {
              "color": "white",
              "width": 0.5
             },
             "pattern": {
              "fillmode": "overlay",
              "size": 10,
              "solidity": 0.2
             }
            },
            "type": "barpolar"
           }
          ],
          "carpet": [
           {
            "aaxis": {
             "endlinecolor": "rgb(36,36,36)",
             "gridcolor": "white",
             "linecolor": "white",
             "minorgridcolor": "white",
             "startlinecolor": "rgb(36,36,36)"
            },
            "baxis": {
             "endlinecolor": "rgb(36,36,36)",
             "gridcolor": "white",
             "linecolor": "white",
             "minorgridcolor": "white",
             "startlinecolor": "rgb(36,36,36)"
            },
            "type": "carpet"
           }
          ],
          "choropleth": [
           {
            "colorbar": {
             "outlinewidth": 1,
             "tickcolor": "rgb(36,36,36)",
             "ticks": "outside"
            },
            "type": "choropleth"
           }
          ],
          "contour": [
           {
            "colorbar": {
             "outlinewidth": 1,
             "tickcolor": "rgb(36,36,36)",
             "ticks": "outside"
            },
            "colorscale": [
             [
              0,
              "#440154"
             ],
             [
              0.1111111111111111,
              "#482878"
             ],
             [
              0.2222222222222222,
              "#3e4989"
             ],
             [
              0.3333333333333333,
              "#31688e"
             ],
             [
              0.4444444444444444,
              "#26828e"
             ],
             [
              0.5555555555555556,
              "#1f9e89"
             ],
             [
              0.6666666666666666,
              "#35b779"
             ],
             [
              0.7777777777777778,
              "#6ece58"
             ],
             [
              0.8888888888888888,
              "#b5de2b"
             ],
             [
              1,
              "#fde725"
             ]
            ],
            "type": "contour"
           }
          ],
          "contourcarpet": [
           {
            "colorbar": {
             "outlinewidth": 1,
             "tickcolor": "rgb(36,36,36)",
             "ticks": "outside"
            },
            "type": "contourcarpet"
           }
          ],
          "heatmap": [
           {
            "colorbar": {
             "outlinewidth": 1,
             "tickcolor": "rgb(36,36,36)",
             "ticks": "outside"
            },
            "colorscale": [
             [
              0,
              "#440154"
             ],
             [
              0.1111111111111111,
              "#482878"
             ],
             [
              0.2222222222222222,
              "#3e4989"
             ],
             [
              0.3333333333333333,
              "#31688e"
             ],
             [
              0.4444444444444444,
              "#26828e"
             ],
             [
              0.5555555555555556,
              "#1f9e89"
             ],
             [
              0.6666666666666666,
              "#35b779"
             ],
             [
              0.7777777777777778,
              "#6ece58"
             ],
             [
              0.8888888888888888,
              "#b5de2b"
             ],
             [
              1,
              "#fde725"
             ]
            ],
            "type": "heatmap"
           }
          ],
          "heatmapgl": [
           {
            "colorbar": {
             "outlinewidth": 1,
             "tickcolor": "rgb(36,36,36)",
             "ticks": "outside"
            },
            "colorscale": [
             [
              0,
              "#440154"
             ],
             [
              0.1111111111111111,
              "#482878"
             ],
             [
              0.2222222222222222,
              "#3e4989"
             ],
             [
              0.3333333333333333,
              "#31688e"
             ],
             [
              0.4444444444444444,
              "#26828e"
             ],
             [
              0.5555555555555556,
              "#1f9e89"
             ],
             [
              0.6666666666666666,
              "#35b779"
             ],
             [
              0.7777777777777778,
              "#6ece58"
             ],
             [
              0.8888888888888888,
              "#b5de2b"
             ],
             [
              1,
              "#fde725"
             ]
            ],
            "type": "heatmapgl"
           }
          ],
          "histogram": [
           {
            "marker": {
             "line": {
              "color": "white",
              "width": 0.6
             }
            },
            "type": "histogram"
           }
          ],
          "histogram2d": [
           {
            "colorbar": {
             "outlinewidth": 1,
             "tickcolor": "rgb(36,36,36)",
             "ticks": "outside"
            },
            "colorscale": [
             [
              0,
              "#440154"
             ],
             [
              0.1111111111111111,
              "#482878"
             ],
             [
              0.2222222222222222,
              "#3e4989"
             ],
             [
              0.3333333333333333,
              "#31688e"
             ],
             [
              0.4444444444444444,
              "#26828e"
             ],
             [
              0.5555555555555556,
              "#1f9e89"
             ],
             [
              0.6666666666666666,
              "#35b779"
             ],
             [
              0.7777777777777778,
              "#6ece58"
             ],
             [
              0.8888888888888888,
              "#b5de2b"
             ],
             [
              1,
              "#fde725"
             ]
            ],
            "type": "histogram2d"
           }
          ],
          "histogram2dcontour": [
           {
            "colorbar": {
             "outlinewidth": 1,
             "tickcolor": "rgb(36,36,36)",
             "ticks": "outside"
            },
            "colorscale": [
             [
              0,
              "#440154"
             ],
             [
              0.1111111111111111,
              "#482878"
             ],
             [
              0.2222222222222222,
              "#3e4989"
             ],
             [
              0.3333333333333333,
              "#31688e"
             ],
             [
              0.4444444444444444,
              "#26828e"
             ],
             [
              0.5555555555555556,
              "#1f9e89"
             ],
             [
              0.6666666666666666,
              "#35b779"
             ],
             [
              0.7777777777777778,
              "#6ece58"
             ],
             [
              0.8888888888888888,
              "#b5de2b"
             ],
             [
              1,
              "#fde725"
             ]
            ],
            "type": "histogram2dcontour"
           }
          ],
          "mesh3d": [
           {
            "colorbar": {
             "outlinewidth": 1,
             "tickcolor": "rgb(36,36,36)",
             "ticks": "outside"
            },
            "type": "mesh3d"
           }
          ],
          "parcoords": [
           {
            "line": {
             "colorbar": {
              "outlinewidth": 1,
              "tickcolor": "rgb(36,36,36)",
              "ticks": "outside"
             }
            },
            "type": "parcoords"
           }
          ],
          "pie": [
           {
            "automargin": true,
            "type": "pie"
           }
          ],
          "scatter": [
           {
            "fillpattern": {
             "fillmode": "overlay",
             "size": 10,
             "solidity": 0.2
            },
            "type": "scatter"
           }
          ],
          "scatter3d": [
           {
            "line": {
             "colorbar": {
              "outlinewidth": 1,
              "tickcolor": "rgb(36,36,36)",
              "ticks": "outside"
             }
            },
            "marker": {
             "colorbar": {
              "outlinewidth": 1,
              "tickcolor": "rgb(36,36,36)",
              "ticks": "outside"
             }
            },
            "type": "scatter3d"
           }
          ],
          "scattercarpet": [
           {
            "marker": {
             "colorbar": {
              "outlinewidth": 1,
              "tickcolor": "rgb(36,36,36)",
              "ticks": "outside"
             }
            },
            "type": "scattercarpet"
           }
          ],
          "scattergeo": [
           {
            "marker": {
             "colorbar": {
              "outlinewidth": 1,
              "tickcolor": "rgb(36,36,36)",
              "ticks": "outside"
             }
            },
            "type": "scattergeo"
           }
          ],
          "scattergl": [
           {
            "marker": {
             "colorbar": {
              "outlinewidth": 1,
              "tickcolor": "rgb(36,36,36)",
              "ticks": "outside"
             }
            },
            "type": "scattergl"
           }
          ],
          "scattermapbox": [
           {
            "marker": {
             "colorbar": {
              "outlinewidth": 1,
              "tickcolor": "rgb(36,36,36)",
              "ticks": "outside"
             }
            },
            "type": "scattermapbox"
           }
          ],
          "scatterpolar": [
           {
            "marker": {
             "colorbar": {
              "outlinewidth": 1,
              "tickcolor": "rgb(36,36,36)",
              "ticks": "outside"
             }
            },
            "type": "scatterpolar"
           }
          ],
          "scatterpolargl": [
           {
            "marker": {
             "colorbar": {
              "outlinewidth": 1,
              "tickcolor": "rgb(36,36,36)",
              "ticks": "outside"
             }
            },
            "type": "scatterpolargl"
           }
          ],
          "scatterternary": [
           {
            "marker": {
             "colorbar": {
              "outlinewidth": 1,
              "tickcolor": "rgb(36,36,36)",
              "ticks": "outside"
             }
            },
            "type": "scatterternary"
           }
          ],
          "surface": [
           {
            "colorbar": {
             "outlinewidth": 1,
             "tickcolor": "rgb(36,36,36)",
             "ticks": "outside"
            },
            "colorscale": [
             [
              0,
              "#440154"
             ],
             [
              0.1111111111111111,
              "#482878"
             ],
             [
              0.2222222222222222,
              "#3e4989"
             ],
             [
              0.3333333333333333,
              "#31688e"
             ],
             [
              0.4444444444444444,
              "#26828e"
             ],
             [
              0.5555555555555556,
              "#1f9e89"
             ],
             [
              0.6666666666666666,
              "#35b779"
             ],
             [
              0.7777777777777778,
              "#6ece58"
             ],
             [
              0.8888888888888888,
              "#b5de2b"
             ],
             [
              1,
              "#fde725"
             ]
            ],
            "type": "surface"
           }
          ],
          "table": [
           {
            "cells": {
             "fill": {
              "color": "rgb(237,237,237)"
             },
             "line": {
              "color": "white"
             }
            },
            "header": {
             "fill": {
              "color": "rgb(217,217,217)"
             },
             "line": {
              "color": "white"
             }
            },
            "type": "table"
           }
          ]
         },
         "layout": {
          "annotationdefaults": {
           "arrowhead": 0,
           "arrowwidth": 1
          },
          "autotypenumbers": "strict",
          "coloraxis": {
           "colorbar": {
            "outlinewidth": 1,
            "tickcolor": "rgb(36,36,36)",
            "ticks": "outside"
           }
          },
          "colorscale": {
           "diverging": [
            [
             0,
             "rgb(103,0,31)"
            ],
            [
             0.1,
             "rgb(178,24,43)"
            ],
            [
             0.2,
             "rgb(214,96,77)"
            ],
            [
             0.3,
             "rgb(244,165,130)"
            ],
            [
             0.4,
             "rgb(253,219,199)"
            ],
            [
             0.5,
             "rgb(247,247,247)"
            ],
            [
             0.6,
             "rgb(209,229,240)"
            ],
            [
             0.7,
             "rgb(146,197,222)"
            ],
            [
             0.8,
             "rgb(67,147,195)"
            ],
            [
             0.9,
             "rgb(33,102,172)"
            ],
            [
             1,
             "rgb(5,48,97)"
            ]
           ],
           "sequential": [
            [
             0,
             "#440154"
            ],
            [
             0.1111111111111111,
             "#482878"
            ],
            [
             0.2222222222222222,
             "#3e4989"
            ],
            [
             0.3333333333333333,
             "#31688e"
            ],
            [
             0.4444444444444444,
             "#26828e"
            ],
            [
             0.5555555555555556,
             "#1f9e89"
            ],
            [
             0.6666666666666666,
             "#35b779"
            ],
            [
             0.7777777777777778,
             "#6ece58"
            ],
            [
             0.8888888888888888,
             "#b5de2b"
            ],
            [
             1,
             "#fde725"
            ]
           ],
           "sequentialminus": [
            [
             0,
             "#440154"
            ],
            [
             0.1111111111111111,
             "#482878"
            ],
            [
             0.2222222222222222,
             "#3e4989"
            ],
            [
             0.3333333333333333,
             "#31688e"
            ],
            [
             0.4444444444444444,
             "#26828e"
            ],
            [
             0.5555555555555556,
             "#1f9e89"
            ],
            [
             0.6666666666666666,
             "#35b779"
            ],
            [
             0.7777777777777778,
             "#6ece58"
            ],
            [
             0.8888888888888888,
             "#b5de2b"
            ],
            [
             1,
             "#fde725"
            ]
           ]
          },
          "colorway": [
           "#1F77B4",
           "#FF7F0E",
           "#2CA02C",
           "#D62728",
           "#9467BD",
           "#8C564B",
           "#E377C2",
           "#7F7F7F",
           "#BCBD22",
           "#17BECF"
          ],
          "font": {
           "color": "rgb(36,36,36)"
          },
          "geo": {
           "bgcolor": "white",
           "lakecolor": "white",
           "landcolor": "white",
           "showlakes": true,
           "showland": true,
           "subunitcolor": "white"
          },
          "hoverlabel": {
           "align": "left"
          },
          "hovermode": "closest",
          "mapbox": {
           "style": "light"
          },
          "paper_bgcolor": "white",
          "plot_bgcolor": "white",
          "polar": {
           "angularaxis": {
            "gridcolor": "rgb(232,232,232)",
            "linecolor": "rgb(36,36,36)",
            "showgrid": false,
            "showline": true,
            "ticks": "outside"
           },
           "bgcolor": "white",
           "radialaxis": {
            "gridcolor": "rgb(232,232,232)",
            "linecolor": "rgb(36,36,36)",
            "showgrid": false,
            "showline": true,
            "ticks": "outside"
           }
          },
          "scene": {
           "xaxis": {
            "backgroundcolor": "white",
            "gridcolor": "rgb(232,232,232)",
            "gridwidth": 2,
            "linecolor": "rgb(36,36,36)",
            "showbackground": true,
            "showgrid": false,
            "showline": true,
            "ticks": "outside",
            "zeroline": false,
            "zerolinecolor": "rgb(36,36,36)"
           },
           "yaxis": {
            "backgroundcolor": "white",
            "gridcolor": "rgb(232,232,232)",
            "gridwidth": 2,
            "linecolor": "rgb(36,36,36)",
            "showbackground": true,
            "showgrid": false,
            "showline": true,
            "ticks": "outside",
            "zeroline": false,
            "zerolinecolor": "rgb(36,36,36)"
           },
           "zaxis": {
            "backgroundcolor": "white",
            "gridcolor": "rgb(232,232,232)",
            "gridwidth": 2,
            "linecolor": "rgb(36,36,36)",
            "showbackground": true,
            "showgrid": false,
            "showline": true,
            "ticks": "outside",
            "zeroline": false,
            "zerolinecolor": "rgb(36,36,36)"
           }
          },
          "shapedefaults": {
           "fillcolor": "black",
           "line": {
            "width": 0
           },
           "opacity": 0.3
          },
          "ternary": {
           "aaxis": {
            "gridcolor": "rgb(232,232,232)",
            "linecolor": "rgb(36,36,36)",
            "showgrid": false,
            "showline": true,
            "ticks": "outside"
           },
           "baxis": {
            "gridcolor": "rgb(232,232,232)",
            "linecolor": "rgb(36,36,36)",
            "showgrid": false,
            "showline": true,
            "ticks": "outside"
           },
           "bgcolor": "white",
           "caxis": {
            "gridcolor": "rgb(232,232,232)",
            "linecolor": "rgb(36,36,36)",
            "showgrid": false,
            "showline": true,
            "ticks": "outside"
           }
          },
          "title": {
           "x": 0.05
          },
          "xaxis": {
           "automargin": true,
           "gridcolor": "rgb(232,232,232)",
           "linecolor": "rgb(36,36,36)",
           "showgrid": false,
           "showline": true,
           "ticks": "outside",
           "title": {
            "standoff": 15
           },
           "zeroline": false,
           "zerolinecolor": "rgb(36,36,36)"
          },
          "yaxis": {
           "automargin": true,
           "gridcolor": "rgb(232,232,232)",
           "linecolor": "rgb(36,36,36)",
           "showgrid": false,
           "showline": true,
           "ticks": "outside",
           "title": {
            "standoff": 15
           },
           "zeroline": false,
           "zerolinecolor": "rgb(36,36,36)"
          }
         }
        },
        "title": {
         "text": "Total Log Loan Amount by State"
        },
        "width": 1000,
        "xaxis": {
         "anchor": "y",
         "domain": [
          0,
          1
         ],
         "title": {
          "text": "pct_black_alone"
         }
        },
        "yaxis": {
         "anchor": "x",
         "domain": [
          0,
          1
         ],
         "title": {
          "text": "State"
         }
        }
       }
      }
     },
     "metadata": {},
     "output_type": "display_data"
    }
   ],
   "source": [
    "# Create the barplot with continuous color scaling using Plotly Express\n",
    "by_pct_blck = df.groupby(by='geo_name').aggregate({'log_loan_amount': 'sum','pct_black_alone':'mean'}).reset_index()\n",
    "\n",
    "fig = px.bar(by_pct_blck, \n",
    "             x='pct_black_alone',\n",
    "             y='geo_name', \n",
    "             orientation='h',\n",
    "             color='pct_black_alone',  # Use log_loan_amount for continuous color scaling\n",
    "             color_continuous_scale='viridis',  # Use 'viridis' color scale\n",
    "             labels={'geo_name': 'State', 'loan_amount': 'Loan Amount (log scale)'},\n",
    "             title='Total Log Loan Amount by State',\n",
    "             template ='simple_white')\n",
    "\n",
    "fig.update_layout(height=1200, width=1000)\n",
    "\n",
    "fig.show()"
   ]
  },
  {
   "cell_type": "code",
   "execution_count": 140,
   "metadata": {},
   "outputs": [],
   "source": [
    "# creating dummy variables\n",
    "# for white owned businesses\n",
    "df['white_owned'] = df['race_or_ethnicity'].apply(lambda x: 1 if x == 'White' else 0)\n",
    "\n",
    "# for male owned businesses\n",
    "df['male_owned'] = df['gender'].apply(lambda x: 1 if x == 'Male Owned' else 0)\n",
    "\n",
    "# for Non-Veteran owned businesses\n",
    "df['Non-veteran_owned'] = df['veteran'].apply(lambda x: 1 if x == 'Non-Veteran' else 0)"
   ]
  },
  {
   "cell_type": "code",
   "execution_count": 141,
   "metadata": {},
   "outputs": [
    {
     "data": {
      "text/html": [
       "<div>\n",
       "<style scoped>\n",
       "    .dataframe tbody tr th:only-of-type {\n",
       "        vertical-align: middle;\n",
       "    }\n",
       "\n",
       "    .dataframe tbody tr th {\n",
       "        vertical-align: top;\n",
       "    }\n",
       "\n",
       "    .dataframe thead th {\n",
       "        text-align: right;\n",
       "    }\n",
       "</style>\n",
       "<table border=\"1\" class=\"dataframe\">\n",
       "  <thead>\n",
       "    <tr style=\"text-align: right;\">\n",
       "      <th></th>\n",
       "      <th>geo_name</th>\n",
       "      <th>geo_level</th>\n",
       "      <th>race_or_ethnicity</th>\n",
       "      <th>gender</th>\n",
       "      <th>veteran</th>\n",
       "      <th>number_of_loans</th>\n",
       "      <th>loan_amount</th>\n",
       "      <th>quartiles_number_of_loans</th>\n",
       "      <th>quartiles_loan_amount</th>\n",
       "      <th>percentile_number_of_loans</th>\n",
       "      <th>percentile_loan_amount</th>\n",
       "      <th>pct_black_alone</th>\n",
       "      <th>log_loan_amount</th>\n",
       "      <th>white_owned</th>\n",
       "      <th>male_owned</th>\n",
       "      <th>Non-veteran_owned</th>\n",
       "    </tr>\n",
       "  </thead>\n",
       "  <tbody>\n",
       "    <tr>\n",
       "      <th>0</th>\n",
       "      <td>Montana</td>\n",
       "      <td>state</td>\n",
       "      <td>Hispanic</td>\n",
       "      <td>Female Owned</td>\n",
       "      <td>Veteran</td>\n",
       "      <td>8</td>\n",
       "      <td>376256</td>\n",
       "      <td>Bottom 25% of geographies</td>\n",
       "      <td>26-50% of geographies</td>\n",
       "      <td>22</td>\n",
       "      <td>30</td>\n",
       "      <td>0.6</td>\n",
       "      <td>5.575483</td>\n",
       "      <td>0</td>\n",
       "      <td>0</td>\n",
       "      <td>0</td>\n",
       "    </tr>\n",
       "    <tr>\n",
       "      <th>1</th>\n",
       "      <td>Arizona</td>\n",
       "      <td>state</td>\n",
       "      <td>White</td>\n",
       "      <td>Male Owned</td>\n",
       "      <td>Non-Veteran</td>\n",
       "      <td>10472</td>\n",
       "      <td>947717925</td>\n",
       "      <td>26-50% of geographies</td>\n",
       "      <td>51-75% of geographies</td>\n",
       "      <td>48</td>\n",
       "      <td>60</td>\n",
       "      <td>4.5</td>\n",
       "      <td>8.976679</td>\n",
       "      <td>1</td>\n",
       "      <td>1</td>\n",
       "      <td>1</td>\n",
       "    </tr>\n",
       "    <tr>\n",
       "      <th>2</th>\n",
       "      <td>Montana</td>\n",
       "      <td>state</td>\n",
       "      <td>Hispanic</td>\n",
       "      <td>Female Owned</td>\n",
       "      <td>Non-Veteran</td>\n",
       "      <td>96</td>\n",
       "      <td>2776646</td>\n",
       "      <td>Bottom 25% of geographies</td>\n",
       "      <td>Bottom 25% of geographies</td>\n",
       "      <td>12</td>\n",
       "      <td>10</td>\n",
       "      <td>0.6</td>\n",
       "      <td>6.443521</td>\n",
       "      <td>0</td>\n",
       "      <td>0</td>\n",
       "      <td>1</td>\n",
       "    </tr>\n",
       "    <tr>\n",
       "      <th>3</th>\n",
       "      <td>Nebraska</td>\n",
       "      <td>state</td>\n",
       "      <td>Hispanic</td>\n",
       "      <td>Male Owned</td>\n",
       "      <td>Non-Veteran</td>\n",
       "      <td>606</td>\n",
       "      <td>23311905</td>\n",
       "      <td>26-50% of geographies</td>\n",
       "      <td>26-50% of geographies</td>\n",
       "      <td>40</td>\n",
       "      <td>26</td>\n",
       "      <td>4.8</td>\n",
       "      <td>7.367578</td>\n",
       "      <td>0</td>\n",
       "      <td>1</td>\n",
       "      <td>1</td>\n",
       "    </tr>\n",
       "    <tr>\n",
       "      <th>4</th>\n",
       "      <td>Louisiana</td>\n",
       "      <td>state</td>\n",
       "      <td>Asian</td>\n",
       "      <td>Male Owned</td>\n",
       "      <td>Veteran</td>\n",
       "      <td>13</td>\n",
       "      <td>403325</td>\n",
       "      <td>26-50% of geographies</td>\n",
       "      <td>26-50% of geographies</td>\n",
       "      <td>41</td>\n",
       "      <td>37</td>\n",
       "      <td>31.9</td>\n",
       "      <td>5.605655</td>\n",
       "      <td>0</td>\n",
       "      <td>1</td>\n",
       "      <td>0</td>\n",
       "    </tr>\n",
       "    <tr>\n",
       "      <th>...</th>\n",
       "      <td>...</td>\n",
       "      <td>...</td>\n",
       "      <td>...</td>\n",
       "      <td>...</td>\n",
       "      <td>...</td>\n",
       "      <td>...</td>\n",
       "      <td>...</td>\n",
       "      <td>...</td>\n",
       "      <td>...</td>\n",
       "      <td>...</td>\n",
       "      <td>...</td>\n",
       "      <td>...</td>\n",
       "      <td>...</td>\n",
       "      <td>...</td>\n",
       "      <td>...</td>\n",
       "      <td>...</td>\n",
       "    </tr>\n",
       "    <tr>\n",
       "      <th>802</th>\n",
       "      <td>District of Columbia</td>\n",
       "      <td>state</td>\n",
       "      <td>Black</td>\n",
       "      <td>Female Owned</td>\n",
       "      <td>Veteran</td>\n",
       "      <td>45</td>\n",
       "      <td>1084029</td>\n",
       "      <td>26-50% of geographies</td>\n",
       "      <td>26-50% of geographies</td>\n",
       "      <td>49</td>\n",
       "      <td>49</td>\n",
       "      <td>44.7</td>\n",
       "      <td>6.035041</td>\n",
       "      <td>0</td>\n",
       "      <td>0</td>\n",
       "      <td>0</td>\n",
       "    </tr>\n",
       "    <tr>\n",
       "      <th>803</th>\n",
       "      <td>Illinois</td>\n",
       "      <td>state</td>\n",
       "      <td>White</td>\n",
       "      <td>Male Owned</td>\n",
       "      <td>Non-Veteran</td>\n",
       "      <td>34747</td>\n",
       "      <td>2575025218</td>\n",
       "      <td>Top 25% of geographies</td>\n",
       "      <td>Top 25% of geographies</td>\n",
       "      <td>92</td>\n",
       "      <td>90</td>\n",
       "      <td>14.1</td>\n",
       "      <td>9.410781</td>\n",
       "      <td>1</td>\n",
       "      <td>1</td>\n",
       "      <td>1</td>\n",
       "    </tr>\n",
       "    <tr>\n",
       "      <th>804</th>\n",
       "      <td>Nevada</td>\n",
       "      <td>state</td>\n",
       "      <td>White</td>\n",
       "      <td>Female Owned</td>\n",
       "      <td>Veteran</td>\n",
       "      <td>137</td>\n",
       "      <td>5212800</td>\n",
       "      <td>26-50% of geographies</td>\n",
       "      <td>26-50% of geographies</td>\n",
       "      <td>34</td>\n",
       "      <td>40</td>\n",
       "      <td>9.3</td>\n",
       "      <td>6.717071</td>\n",
       "      <td>1</td>\n",
       "      <td>0</td>\n",
       "      <td>0</td>\n",
       "    </tr>\n",
       "    <tr>\n",
       "      <th>805</th>\n",
       "      <td>Connecticut</td>\n",
       "      <td>state</td>\n",
       "      <td>Black</td>\n",
       "      <td>Female Owned</td>\n",
       "      <td>Non-Veteran</td>\n",
       "      <td>1080</td>\n",
       "      <td>19429923</td>\n",
       "      <td>26-50% of geographies</td>\n",
       "      <td>26-50% of geographies</td>\n",
       "      <td>40</td>\n",
       "      <td>38</td>\n",
       "      <td>10.8</td>\n",
       "      <td>7.288471</td>\n",
       "      <td>0</td>\n",
       "      <td>0</td>\n",
       "      <td>1</td>\n",
       "    </tr>\n",
       "    <tr>\n",
       "      <th>806</th>\n",
       "      <td>Wisconsin</td>\n",
       "      <td>state</td>\n",
       "      <td>Black</td>\n",
       "      <td>Female Owned</td>\n",
       "      <td>Non-Veteran</td>\n",
       "      <td>4026</td>\n",
       "      <td>75113160</td>\n",
       "      <td>51-75% of geographies</td>\n",
       "      <td>51-75% of geographies</td>\n",
       "      <td>58</td>\n",
       "      <td>58</td>\n",
       "      <td>6.3</td>\n",
       "      <td>7.875716</td>\n",
       "      <td>0</td>\n",
       "      <td>0</td>\n",
       "      <td>1</td>\n",
       "    </tr>\n",
       "  </tbody>\n",
       "</table>\n",
       "<p>807 rows × 16 columns</p>\n",
       "</div>"
      ],
      "text/plain": [
       "                 geo_name geo_level race_or_ethnicity        gender  \\\n",
       "0                 Montana     state          Hispanic  Female Owned   \n",
       "1                 Arizona     state             White    Male Owned   \n",
       "2                 Montana     state          Hispanic  Female Owned   \n",
       "3                Nebraska     state          Hispanic    Male Owned   \n",
       "4               Louisiana     state             Asian    Male Owned   \n",
       "..                    ...       ...               ...           ...   \n",
       "802  District of Columbia     state             Black  Female Owned   \n",
       "803              Illinois     state             White    Male Owned   \n",
       "804                Nevada     state             White  Female Owned   \n",
       "805           Connecticut     state             Black  Female Owned   \n",
       "806             Wisconsin     state             Black  Female Owned   \n",
       "\n",
       "         veteran  number_of_loans  loan_amount  quartiles_number_of_loans  \\\n",
       "0        Veteran                8       376256  Bottom 25% of geographies   \n",
       "1    Non-Veteran            10472    947717925      26-50% of geographies   \n",
       "2    Non-Veteran               96      2776646  Bottom 25% of geographies   \n",
       "3    Non-Veteran              606     23311905      26-50% of geographies   \n",
       "4        Veteran               13       403325      26-50% of geographies   \n",
       "..           ...              ...          ...                        ...   \n",
       "802      Veteran               45      1084029      26-50% of geographies   \n",
       "803  Non-Veteran            34747   2575025218     Top 25% of geographies   \n",
       "804      Veteran              137      5212800      26-50% of geographies   \n",
       "805  Non-Veteran             1080     19429923      26-50% of geographies   \n",
       "806  Non-Veteran             4026     75113160      51-75% of geographies   \n",
       "\n",
       "         quartiles_loan_amount  percentile_number_of_loans  \\\n",
       "0        26-50% of geographies                          22   \n",
       "1        51-75% of geographies                          48   \n",
       "2    Bottom 25% of geographies                          12   \n",
       "3        26-50% of geographies                          40   \n",
       "4        26-50% of geographies                          41   \n",
       "..                         ...                         ...   \n",
       "802      26-50% of geographies                          49   \n",
       "803     Top 25% of geographies                          92   \n",
       "804      26-50% of geographies                          34   \n",
       "805      26-50% of geographies                          40   \n",
       "806      51-75% of geographies                          58   \n",
       "\n",
       "     percentile_loan_amount  pct_black_alone  log_loan_amount  white_owned  \\\n",
       "0                        30              0.6         5.575483            0   \n",
       "1                        60              4.5         8.976679            1   \n",
       "2                        10              0.6         6.443521            0   \n",
       "3                        26              4.8         7.367578            0   \n",
       "4                        37             31.9         5.605655            0   \n",
       "..                      ...              ...              ...          ...   \n",
       "802                      49             44.7         6.035041            0   \n",
       "803                      90             14.1         9.410781            1   \n",
       "804                      40              9.3         6.717071            1   \n",
       "805                      38             10.8         7.288471            0   \n",
       "806                      58              6.3         7.875716            0   \n",
       "\n",
       "     male_owned  Non-veteran_owned  \n",
       "0             0                  0  \n",
       "1             1                  1  \n",
       "2             0                  1  \n",
       "3             1                  1  \n",
       "4             1                  0  \n",
       "..          ...                ...  \n",
       "802           0                  0  \n",
       "803           1                  1  \n",
       "804           0                  0  \n",
       "805           0                  1  \n",
       "806           0                  1  \n",
       "\n",
       "[807 rows x 16 columns]"
      ]
     },
     "execution_count": 141,
     "metadata": {},
     "output_type": "execute_result"
    }
   ],
   "source": [
    "df"
   ]
  },
  {
   "cell_type": "code",
   "execution_count": null,
   "metadata": {},
   "outputs": [],
   "source": [
    "88"
   ]
  }
 ],
 "metadata": {
  "kernelspec": {
   "display_name": "base",
   "language": "python",
   "name": "python3"
  },
  "language_info": {
   "codemirror_mode": {
    "name": "ipython",
    "version": 3
   },
   "file_extension": ".py",
   "mimetype": "text/x-python",
   "name": "python",
   "nbconvert_exporter": "python",
   "pygments_lexer": "ipython3",
   "version": "3.11.4"
  }
 },
 "nbformat": 4,
 "nbformat_minor": 2
}
